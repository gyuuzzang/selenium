{
 "cells": [
  {
   "cell_type": "code",
   "execution_count": 7,
   "metadata": {},
   "outputs": [],
   "source": [
    "from IPython.display import display, Image\n",
    "import os, warnings\n",
    "import re\n",
    "warnings.filterwarnings(action='ignore')"
   ]
  },
  {
   "cell_type": "code",
   "execution_count": 8,
   "metadata": {},
   "outputs": [],
   "source": [
    "from selenium import webdriver\n",
    "from bs4 import BeautifulSoup\n",
    "from urllib.request import urlopen"
   ]
  },
  {
   "cell_type": "code",
   "execution_count": 13,
   "metadata": {},
   "outputs": [],
   "source": [
    "driver = webdriver.Chrome('../chromedriver_90')\n",
    "url = 'https://www.melon.com/index.htm'\n",
    "driver.get(url)"
   ]
  },
  {
   "cell_type": "code",
   "execution_count": 14,
   "metadata": {},
   "outputs": [],
   "source": [
    "import lxml\n",
    "page = driver.page_source\n",
    "soup = BeautifulSoup(page,'lxml')"
   ]
  },
  {
   "cell_type": "code",
   "execution_count": 15,
   "metadata": {},
   "outputs": [],
   "source": [
    "from selenium.webdriver import ActionChains\n",
    "some_tag = driver.find_element_by_xpath('//*[@id=\"gnb_menu\"]/ul[1]/li[1]/a/span[2]')\n",
    "ActionChains(driver).move_to_element(some_tag).perform()\n",
    "some_tag.click()"
   ]
  },
  {
   "cell_type": "code",
   "execution_count": null,
   "metadata": {},
   "outputs": [],
   "source": [
    "# 2021 월간 데이터 추출"
   ]
  },
  {
   "cell_type": "code",
   "execution_count": 214,
   "metadata": {},
   "outputs": [],
   "source": [
    "some_tag = driver.find_element_by_xpath('//*[@id=\"gnb_menu\"]/ul[1]/li[1]/div/ul/li[4]/a/span')\n",
    "ActionChains(driver).move_to_element(some_tag).perform()\n",
    "some_tag.click()"
   ]
  },
  {
   "cell_type": "code",
   "execution_count": 125,
   "metadata": {
    "scrolled": true
   },
   "outputs": [
    {
     "name": "stdout",
     "output_type": "stream",
     "text": [
      "곡정보 :  롤린 (Rollin')\n",
      "가수 :  브레이브걸스\n"
     ]
    }
   ],
   "source": [
    "song = driver.find_element_by_xpath('//*[@id=\"lst50\"]/td[6]/div/div/div[1]/span/a')\n",
    "singer = driver.find_element_by_xpath('//*[@id=\"lst50\"]/td[6]/div/div/div[2]/a')\n",
    "\n",
    "print(\"곡정보 : \" ,song.text)\n",
    "print(\"가수 : \", singer.text)"
   ]
  },
  {
   "cell_type": "code",
   "execution_count": 126,
   "metadata": {},
   "outputs": [],
   "source": [
    "from selenium.webdriver.common.keys import Keys"
   ]
  },
  {
   "cell_type": "code",
   "execution_count": 127,
   "metadata": {},
   "outputs": [
    {
     "ename": "NameError",
     "evalue": "name 'browser' is not defined",
     "output_type": "error",
     "traceback": [
      "\u001b[1;31m---------------------------------------------------------------------------\u001b[0m",
      "\u001b[1;31mNameError\u001b[0m                                 Traceback (most recent call last)",
      "\u001b[1;32m<ipython-input-127-676a5b8b3724>\u001b[0m in \u001b[0;36m<module>\u001b[1;34m\u001b[0m\n\u001b[1;32m----> 1\u001b[1;33m \u001b[0mtarget\u001b[0m \u001b[1;33m=\u001b[0m \u001b[0mbrowser\u001b[0m\u001b[1;33m.\u001b[0m\u001b[0mfind_element_by_xpath\u001b[0m\u001b[1;33m(\u001b[0m\u001b[1;34m'//*[@id=\"lst50\"]/td[5]/div/a'\u001b[0m\u001b[1;33m)\u001b[0m\u001b[1;33m\u001b[0m\u001b[1;33m\u001b[0m\u001b[0m\n\u001b[0m\u001b[0;32m      2\u001b[0m \u001b[0mtarget\u001b[0m\u001b[1;33m.\u001b[0m\u001b[0msend_keys\u001b[0m\u001b[1;33m(\u001b[0m\u001b[0mKeys\u001b[0m\u001b[1;33m.\u001b[0m\u001b[0mCONTROL\u001b[0m \u001b[1;33m+\u001b[0m \u001b[1;34m\"\\n\"\u001b[0m\u001b[1;33m)\u001b[0m\u001b[1;33m\u001b[0m\u001b[1;33m\u001b[0m\u001b[0m\n",
      "\u001b[1;31mNameError\u001b[0m: name 'browser' is not defined"
     ]
    }
   ],
   "source": [
    "target = browser.find_element_by_xpath('//*[@id=\"lst50\"]/td[5]/div/a')\n",
    "target.send_keys(Keys.CONTROL + \"\\n\")"
   ]
  },
  {
   "cell_type": "code",
   "execution_count": null,
   "metadata": {},
   "outputs": [],
   "source": [
    "# 새로운 탭으로 초점을 전환\n",
    "browser.switch_to_window(browser.window_handles[1])"
   ]
  },
  {
   "cell_type": "code",
   "execution_count": null,
   "metadata": {},
   "outputs": [],
   "source": [
    "# 현재 탭 종료\n",
    "browser.close()\n",
    "# 첫번째 탭으로 전환\n",
    "browser.switch_to_window(browser.window_handles[0])"
   ]
  },
  {
   "cell_type": "code",
   "execution_count": null,
   "metadata": {},
   "outputs": [],
   "source": [
    "//*[@id=\"lst50\"]/td[6]/div/div/div[1]/span/a\n",
    "//*[@id=\"lst50\"]/td[6]/div/div/div[1]/span/a \n",
    "# 단편적인 정보만 추출 2위 추출 불가능"
   ]
  },
  {
   "cell_type": "code",
   "execution_count": 90,
   "metadata": {},
   "outputs": [
    {
     "ename": "AttributeError",
     "evalue": "'str' object has no attribute 'str'",
     "output_type": "error",
     "traceback": [
      "\u001b[1;31m---------------------------------------------------------------------------\u001b[0m",
      "\u001b[1;31mAttributeError\u001b[0m                            Traceback (most recent call last)",
      "\u001b[1;32m<ipython-input-90-1ee3b0bb42b2>\u001b[0m in \u001b[0;36m<module>\u001b[1;34m\u001b[0m\n\u001b[0;32m      1\u001b[0m \u001b[0minfo\u001b[0m\u001b[1;33m=\u001b[0m \u001b[0mdriver\u001b[0m\u001b[1;33m.\u001b[0m\u001b[0mfind_element_by_css_selector\u001b[0m\u001b[1;33m(\u001b[0m\u001b[1;34m\".service_list_song .wrap_song_info\"\u001b[0m\u001b[1;33m)\u001b[0m\u001b[1;33m.\u001b[0m\u001b[0mtext\u001b[0m\u001b[1;33m\u001b[0m\u001b[1;33m\u001b[0m\u001b[0m\n\u001b[1;32m----> 2\u001b[1;33m \u001b[0msinger\u001b[0m\u001b[1;33m=\u001b[0m\u001b[0msinger\u001b[0m\u001b[1;33m.\u001b[0m\u001b[0mstr\u001b[0m\u001b[1;33m.\u001b[0m\u001b[0msplit\u001b[0m\u001b[1;33m(\u001b[0m\u001b[1;34m'\\n'\u001b[0m\u001b[1;33m)\u001b[0m\u001b[1;33m.\u001b[0m\u001b[0mstr\u001b[0m\u001b[1;33m[\u001b[0m\u001b[1;36m0\u001b[0m\u001b[1;33m]\u001b[0m\u001b[1;33m\u001b[0m\u001b[1;33m\u001b[0m\u001b[0m\n\u001b[0m\u001b[0;32m      3\u001b[0m \u001b[0msinger\u001b[0m\u001b[1;33m\u001b[0m\u001b[1;33m\u001b[0m\u001b[0m\n",
      "\u001b[1;31mAttributeError\u001b[0m: 'str' object has no attribute 'str'"
     ]
    }
   ],
   "source": [
    "info= driver.find_element_by_css_selector(\".service_list_song .wrap_song_info\").text\n",
    "singer=singer.str.split('\\n').str[0]\n",
    "singer"
   ]
  },
  {
   "cell_type": "code",
   "execution_count": 88,
   "metadata": {},
   "outputs": [
    {
     "ename": "NameError",
     "evalue": "name 'dat' is not defined",
     "output_type": "error",
     "traceback": [
      "\u001b[1;31m---------------------------------------------------------------------------\u001b[0m",
      "\u001b[1;31mNameError\u001b[0m                                 Traceback (most recent call last)",
      "\u001b[1;32m<ipython-input-88-7952c5f24d53>\u001b[0m in \u001b[0;36m<module>\u001b[1;34m\u001b[0m\n\u001b[1;32m----> 1\u001b[1;33m \u001b[0mdat\u001b[0m\u001b[1;33m[\u001b[0m\u001b[1;34m'확진자수'\u001b[0m\u001b[1;33m]\u001b[0m \u001b[1;33m=\u001b[0m \u001b[0mdat\u001b[0m\u001b[1;33m[\u001b[0m\u001b[1;34m'확진자'\u001b[0m\u001b[1;33m]\u001b[0m\u001b[1;33m.\u001b[0m\u001b[0mstr\u001b[0m\u001b[1;33m.\u001b[0m\u001b[0msplit\u001b[0m\u001b[1;33m(\u001b[0m\u001b[1;34m'\\n'\u001b[0m\u001b[1;33m)\u001b[0m\u001b[1;33m.\u001b[0m\u001b[0mstr\u001b[0m\u001b[1;33m[\u001b[0m\u001b[1;36m0\u001b[0m\u001b[1;33m]\u001b[0m\u001b[1;33m\u001b[0m\u001b[1;33m\u001b[0m\u001b[0m\n\u001b[0m",
      "\u001b[1;31mNameError\u001b[0m: name 'dat' is not defined"
     ]
    }
   ],
   "source": [
    "dat['확진자수'] = dat['확진자'].str.split('\\n').str[0]"
   ]
  },
  {
   "cell_type": "code",
   "execution_count": 79,
   "metadata": {},
   "outputs": [
    {
     "name": "stdout",
     "output_type": "stream",
     "text": [
      "롤린 (Rollin')\n",
      "브레이브걸스\n",
      "Rollin'\n",
      "Peaches (Feat. Daniel Caesar & Giveon)\n",
      "Justin Bieber\n",
      "Justice\n",
      "라일락\n",
      "아이유\n",
      "IU 5th Album 'LILAC'\n",
      "운전만해 (We Ride)\n",
      "브레이브걸스\n",
      "We Ride\n",
      "Celebrity\n",
      "아이유\n",
      "IU 5th Album 'LILAC'\n",
      "Timeless\n",
      "SG 워너비\n",
      "Sg Wanna Be+\n",
      "Dynamite\n",
      "방탄소년단\n",
      "Dynamite (DayTime Version)\n",
      "라라라\n",
      "SG 워너비\n",
      "My Friend\n",
      "Dun Dun Dance\n",
      "오마이걸 (OH MY GIRL)\n",
      "Dear OHMYGIRL\n",
      "내사람\n",
      "SG 워너비\n",
      "The Precious History\n",
      "내 손을 잡아\n",
      "아이유\n",
      "최고의 사랑 OST Part.4\n",
      "Coin\n",
      "아이유\n",
      "IU 5th Album 'LILAC'\n",
      "밝게 빛나는 별이 되어 비춰줄게\n",
      "송이한\n",
      "밝게 빛나는 별이 되어 비춰줄게\n",
      "LOVE DAY (2021) (바른연애 길잡이 X 양요섭, 정은지)\n",
      "양요섭, 정은지\n",
      "LOVE DAY (2021) (바른연애 길잡이 X 양요섭, 정은지)\n",
      "마.피.아. In the morning\n",
      "ITZY (있지)\n",
      "GUESS WHO\n",
      "멜로디\n",
      "ASH ISLAND\n",
      "멜로디\n",
      "On The Ground\n",
      "로제 (ROSÉ)\n",
      "R\n",
      "밤하늘의 별을(2020)\n",
      "경서\n",
      "밤하늘의 별을(2020)\n",
      "사이렌 Remix (Feat. UNEDUCATED KID, Paul Blanco)\n",
      "호미들\n",
      "사이렌 Remix\n",
      "ASAP\n",
      "STAYC(스테이씨)\n",
      "STAYDOM\n",
      "Butter\n",
      "방탄소년단\n",
      "Butter\n",
      "잠이 오질 않네요\n",
      "장범준\n",
      "잠이 오질 않네요\n",
      "상상더하기\n",
      "라붐 (LABOUM)\n",
      "Fresh Adventure\n",
      "Blueming\n",
      "아이유\n",
      "Love poem\n",
      "그냥 안아달란 말야\n",
      "다비치\n",
      "그냥 안아달란 말야\n",
      "취기를 빌려 (취향저격 그녀 X 산들)\n",
      "산들\n",
      "취기를 빌려 (취향저격 그녀 X 산들)\n",
      "Lovesick Girls\n",
      "BLACKPINK\n",
      "THE ALBUM\n",
      "에잇(Prod.&Feat. SUGA of BTS)\n",
      "아이유\n",
      "에잇\n",
      "어푸 (Ah puh)\n",
      "아이유\n",
      "IU 5th Album 'LILAC'\n",
      "VVS (Feat. JUSTHIS) (Prod. GroovyRoom)\n",
      "미란이 (Mirani), 먼치맨(MUNCHMAN), Khundi Panda, 머쉬베놈 (MUSHVENOM)\n",
      "쇼미더머니 9 Episode 1\n",
      "살다가\n",
      "SG 워너비\n",
      "살다가\n",
      "나랑 같이 걸을래 (바른연애 길잡이 X 적재)\n",
      "적재\n",
      "나랑 같이 걸을래 (바른연애 길잡이 X 적재)\n",
      "Savage Love (Laxed - Siren Beat) (BTS Remix)\n",
      "Jawsh 685, Jason Derulo, 방탄소년단\n",
      "Savage Love (Laxed - Siren Beat) [BTS Remix]\n",
      "12:45 (Stripped)\n",
      "Etham\n",
      "12:45 (Stripped)\n",
      "흔들리는 꽃들 속에서 네 샴푸향이 느껴진거야\n",
      "장범준\n",
      "멜로가 체질 OST Part 3\n",
      "Next Level\n",
      "aespa\n",
      "Next Level\n",
      "어떻게 이별까지 사랑하겠어, 널 사랑하는 거지\n",
      "AKMU (악동뮤지션)\n",
      "항해\n",
      "그날에 나는 맘이 편했을까\n",
      "이예준\n",
      "그날에 나는 맘이 편했을까\n",
      "추억은 만남보다 이별에 남아\n",
      "정동하\n",
      "추억은 만남보다 이별에 남아\n",
      "Dolphin\n",
      "오마이걸 (OH MY GIRL)\n",
      "NONSTOP\n",
      "이 밤을 빌려 말해요 (바른연애 길잡이 X 10CM)\n",
      "10CM\n",
      "이 밤을 빌려 말해요 (바른연애 길잡이 X 10CM)\n",
      "오래된 노래\n",
      "스탠딩 에그\n",
      "오래된 노래\n",
      "헤픈 우연\n",
      "헤이즈 (Heize)\n",
      "HAPPEN\n",
      "METEOR\n",
      "창모 (CHANGMO)\n",
      "Boyhood\n",
      "2002\n",
      "Anne-Marie\n",
      "Speak Your Mind (Deluxe)\n",
      "작은 것들을 위한 시 (Boy With Luv) (Feat. Halsey)\n",
      "방탄소년단\n",
      "MAP OF THE SOUL : PERSONA\n",
      "모든 날, 모든 순간 (Every day, Every Moment)\n",
      "폴킴\n",
      "'키스 먼저 할까요?' OST Part.3\n",
      "Life Goes On\n",
      "방탄소년단\n",
      "BE\n",
      "봄날\n",
      "방탄소년단\n",
      "YOU NEVER WALK ALONE\n",
      "힘든 건 사랑이 아니다\n",
      "임창정\n",
      "힘든 건 사랑이 아니다\n",
      "아로하\n",
      "조정석\n",
      "슬기로운 의사생활 OST Part 3\n",
      "너의 번호를 누르고 (Prod. 영화처럼)\n",
      "#안녕\n",
      "너의 번호를 누르고\n",
      "너의 발걸음에 빛을 비춰줄게 (Prod. 조영수)\n",
      "케이시 (Kassy)\n",
      "너의 발걸음에 빛을 비춰줄게 (Prod. 조영수)\n",
      "사실 나는 (Feat.전건호)\n",
      "경서예지\n",
      "사실 나는\n",
      "어떻게 지내 (Prod. By VAN.C)\n",
      "오반 (OVAN)\n",
      "어떻게 지내\n",
      "살짝 설렜어 (Nonstop)\n",
      "오마이걸 (OH MY GIRL)\n",
      "NONSTOP\n",
      "오늘도 빛나는 너에게 (To You My Light) (Feat.이라온)\n",
      "마크툽 (MAKTUB)\n",
      "Red Moon : To You My Light\n",
      "봄 안녕 봄\n",
      "아이유\n",
      "IU 5th Album 'LILAC'\n",
      "아이와 나의 바다\n",
      "아이유\n",
      "IU 5th Album 'LILAC'\n",
      "Memories\n",
      "Maroon 5\n",
      "JORDI (Deluxe)\n",
      "늦은 밤 너의 집 앞 골목길에서\n",
      "노을\n",
      "늦은 밤 너의 집 앞 골목길에서\n",
      "How You Like That\n",
      "BLACKPINK\n",
      "How You Like That\n",
      "이렇게 좋아해 본 적이 없어요\n",
      "CHEEZE (치즈)\n",
      "이렇게 좋아해 본 적이 없어요 (소녀의 세계 X CHEEZE(치즈))\n",
      "기다릴게\n",
      "하동균, 봉구\n",
      "기다릴게\n",
      "이제 나만 믿어요\n",
      "임영웅\n",
      "내일은 미스터트롯 우승자 특전곡\n",
      "마음을 드려요\n",
      "아이유\n",
      "사랑의 불시착 OST Part 11\n",
      "Dance Monkey\n",
      "Tones And I\n",
      "The Kids Are Coming\n",
      "고백 (바른연애 길잡이 X 허각)\n",
      "허각\n",
      "고백 (바른연애 길잡이 X 허각)\n",
      "Flu\n",
      "아이유\n",
      "IU 5th Album 'LILAC'\n",
      "내 마음이 움찔했던 순간 (취향저격 그녀 X 규현)\n",
      "규현 (KYUHYUN)\n",
      "내 마음이 움찔했던 순간 (취향저격 그녀 X 규현)\n",
      "함께 했는데 이별은 나 혼자인 거야\n",
      "소정 (레이디스 코드)\n",
      "함께 했는데 이별은 나 혼자인 거야\n",
      "When We Disco (Duet with 선미)\n",
      "박진영\n",
      "When We Disco\n",
      "Love poem\n",
      "아이유\n",
      "Love poem\n",
      "Off My Face\n",
      "Justin Bieber\n",
      "Justice\n",
      "너를 만나\n",
      "폴킴\n",
      "너를 만나\n",
      "Paris In The Rain\n",
      "Lauv\n",
      "I met you when I was 18. (the playlist)\n",
      "죄와벌\n",
      "SG 워너비\n",
      "살다가\n",
      "시작\n",
      "가호 (Gaho)\n",
      "이태원 클라쓰 OST Part.2\n",
      "우리 왜 헤어져야 해\n",
      "신예영\n",
      "우리 왜 헤어져야 해\n",
      "우린 어쩌다 헤어진 걸까\n",
      "허각\n",
      "Hello\n",
      "상상더하기\n",
      "MSG워너비 TOP 8 (별루지, 김정수, 강창모, 정기석, 이동휘, 이상이, 박재정, 원슈타인)\n",
      "MSG워너비 TOP 8 경연곡\n",
      "Don't Start Now\n",
      "Dua Lipa\n",
      "Future Nostalgia\n",
      "혼술하고 싶은 밤\n",
      "벤\n",
      "혼술하고 싶은 밤\n",
      "내일이 오면 (Feat. 기리보이, BIG Naughty (서동현))\n",
      "릴보이 (lIlBOI)\n",
      "쇼미더머니 9 Episode 3\n",
      "거짓말이라도 해서 널 보고싶어\n",
      "백지영\n",
      "거짓말이라도 해서 널 보고싶어\n",
      "되풀이\n",
      "임창정\n",
      "펜트하우스2 OST Part.1\n",
      "돌림노래 (Feat. DEAN)\n",
      "아이유\n",
      "IU 5th Album 'LILAC'\n",
      "서면역에서\n",
      "순순희\n",
      "서면역에서\n",
      "Downtown Baby\n",
      "블루 (BLOO)\n",
      "Downtown Baby\n",
      "Maniac\n",
      "Conan Gray\n",
      "Maniac\n",
      "안녕\n",
      "폴킴\n",
      "호텔 델루나 OST Part.10\n",
      "맛 (Hot Sauce)\n",
      "NCT DREAM\n",
      "맛 (Hot Sauce) - The 1st Album\n",
      "아리랑\n",
      "SG 워너비\n",
      "The Sentimental Chord\n",
      "Gone\n",
      "로제 (ROSÉ)\n",
      "R\n",
      "사랑은 지날수록 더욱 선명하게 남아\n",
      "전상근\n",
      "한 걸음 : 흔적\n",
      "술 한잔 해요\n",
      "경서 (경서예지), MJ (써니사이드)\n",
      "술 한잔 해요\n",
      "에필로그\n",
      "아이유\n",
      "IU 5th Album 'LILAC'\n",
      "딩가딩가 (Dingga)\n",
      "마마무 (Mamamoo)\n",
      "딩가딩가 (Dingga)\n",
      "마리아 (Maria)\n",
      "화사 (Hwa Sa)\n",
      "María\n",
      "불어온다\n",
      "하이라이트 (Highlight)\n",
      "The Blowing\n"
     ]
    }
   ],
   "source": [
    "song_info= driver.find_elements_by_css_selector(\".service_list_song .wrap_song_info\")\n",
    "for i in song_info:\n",
    "    print(i.text)"
   ]
  },
  {
   "cell_type": "code",
   "execution_count": null,
   "metadata": {},
   "outputs": [],
   "source": [
    "*차트 파인더로 추출"
   ]
  },
  {
   "cell_type": "code",
   "execution_count": 25,
   "metadata": {},
   "outputs": [],
   "source": [
    "some_tag = driver.find_element_by_xpath('//*[@id=\"gnb_menu\"]/ul[1]/li[1]/div/div/button/span')\n",
    "ActionChains(driver).move_to_element(some_tag).perform()\n",
    "some_tag.click()"
   ]
  },
  {
   "cell_type": "code",
   "execution_count": 26,
   "metadata": {},
   "outputs": [],
   "source": [
    "#월간 차트\n",
    "some_tag = driver.find_element_by_xpath('//*[@id=\"d_chart_search\"]/div/h4[2]/a')\n",
    "ActionChains(driver).move_to_element(some_tag).perform()\n",
    "some_tag.click()"
   ]
  },
  {
   "cell_type": "code",
   "execution_count": 27,
   "metadata": {},
   "outputs": [],
   "source": [
    "#2020년대 선택\n",
    "some_tag = driver.find_element_by_xpath('//*[@id=\"d_chart_search\"]/div/div/div[1]/div[1]/ul/li[1]')\n",
    "ActionChains(driver).move_to_element(some_tag).perform()\n",
    "some_tag.click()"
   ]
  },
  {
   "cell_type": "code",
   "execution_count": 28,
   "metadata": {},
   "outputs": [],
   "source": [
    "#연도선택 - 2021년\n",
    "some_tag = driver.find_element_by_xpath('//*[@id=\"d_chart_search\"]/div/div/div[2]/div[1]/ul/li[1]')\n",
    "ActionChains(driver).move_to_element(some_tag).perform()\n",
    "some_tag.click()"
   ]
  },
  {
   "cell_type": "code",
   "execution_count": 29,
   "metadata": {},
   "outputs": [],
   "source": [
    "#월간선택 - 05월\n",
    "some_tag = driver.find_element_by_xpath('//*[@id=\"d_chart_search\"]/div/div/div[3]/div[1]/ul/li[6]')\n",
    "ActionChains(driver).move_to_element(some_tag).perform()\n",
    "some_tag.click()"
   ]
  },
  {
   "cell_type": "code",
   "execution_count": 30,
   "metadata": {},
   "outputs": [],
   "source": [
    "#국내종합 클릭\n",
    "some_tag = driver.find_element_by_xpath('//*[@id=\"d_chart_search\"]/div/div/div[5]/div[1]/ul/li[2]')\n",
    "ActionChains(driver).move_to_element(some_tag).perform()\n",
    "some_tag.click()"
   ]
  },
  {
   "cell_type": "code",
   "execution_count": 31,
   "metadata": {},
   "outputs": [],
   "source": [
    "#검색 클릭\n",
    "some_tag = driver.find_element_by_xpath('//*[@id=\"d_srch_form\"]/div[2]/button/span/span')\n",
    "ActionChains(driver).move_to_element(some_tag).perform()\n",
    "some_tag.click()"
   ]
  },
  {
   "cell_type": "code",
   "execution_count": 32,
   "metadata": {},
   "outputs": [],
   "source": [
    "#1위 차트 앨범정보 클릭\n",
    "some_tag = driver.find_element_by_xpath('//*[@id=\"lst50\"]/td[4]/div/a/span')\n",
    "ActionChains(driver).move_to_element(some_tag).perform()\n",
    "some_tag.click()"
   ]
  },
  {
   "cell_type": "code",
   "execution_count": 34,
   "metadata": {},
   "outputs": [
    {
     "name": "stdout",
     "output_type": "stream",
     "text": [
      "제목 :  Butter\n",
      "가수 :  방탄소년단\n",
      "발매일 :  2021.05.21\n",
      "장르 :  댄스\n"
     ]
    }
   ],
   "source": [
    "song = driver.find_element_by_xpath('//*[@id=\"downloadfrm\"]/div/div/div[2]/div[1]/div[1]')\n",
    "singer = driver.find_element_by_xpath('//*[@id=\"downloadfrm\"]/div/div/div[2]/div[1]/div[2]/a/span[1]')\n",
    "release = driver.find_element_by_xpath('//*[@id=\"downloadfrm\"]/div/div/div[2]/div[2]/dl/dd[2]')\n",
    "genre = driver.find_element_by_xpath('//*[@id=\"downloadfrm\"]/div/div/div[2]/div[2]/dl/dd[3]')\n",
    "\n",
    "print(\"제목 : \" ,song.text)\n",
    "print(\"가수 : \", singer.text)\n",
    "print(\"발매일 : \", release.text)\n",
    "print(\"장르 : \", genre.text)"
   ]
  },
  {
   "cell_type": "code",
   "execution_count": 33,
   "metadata": {},
   "outputs": [
    {
     "name": "stdout",
     "output_type": "stream",
     "text": [
      "제목 :  Butter\n",
      "가수 :  방탄소년단\n",
      "앨범명 :  Butter\n",
      "발매일 :  2021.05.21\n",
      "장르 :  댄스\n"
     ]
    }
   ],
   "source": [
    "#앨범명, 발매일, 장르\n",
    "song = driver.find_element_by_xpath('//*[@id=\"downloadfrm\"]/div/div/div[2]/div[1]/div[1]')\n",
    "singer = driver.find_element_by_xpath('//*[@id=\"downloadfrm\"]/div/div/div[2]/div[1]/div[2]/a/span[1]')\n",
    "album = driver.find_element_by_xpath('//*[@id=\"downloadfrm\"]/div/div/div[2]/div[2]/dl/dd[1]/a')\n",
    "release = driver.find_element_by_xpath('//*[@id=\"downloadfrm\"]/div/div/div[2]/div[2]/dl/dd[2]')\n",
    "genre = driver.find_element_by_xpath('//*[@id=\"downloadfrm\"]/div/div/div[2]/div[2]/dl/dd[3]')\n",
    "\n",
    "print(\"제목 : \" ,song.text)\n",
    "print(\"가수 : \", singer.text)\n",
    "print(\"앨범명 : \" ,album.text)\n",
    "print(\"발매일 : \", release.text)\n",
    "print(\"장르 : \", genre.text)"
   ]
  },
  {
   "cell_type": "code",
   "execution_count": 235,
   "metadata": {},
   "outputs": [],
   "source": [
    "from selenium.webdriver import ActionChains\n",
    "some_tag = driver.find_element_by_xpath('//*[@id=\"gnb_menu\"]/ul[1]/li[1]/a/span[2]')\n",
    "ActionChains(driver).move_to_element(some_tag).perform()\n",
    "some_tag.click()"
   ]
  },
  {
   "cell_type": "code",
   "execution_count": 236,
   "metadata": {},
   "outputs": [],
   "source": [
    "import time\n",
    "driver.find_element_by_xpath('//*[@id=\"gnb_menu\"]/ul[1]/li[1]/div/div/button/span').click()\n",
    "\n",
    "driver.find_element_by_xpath('//*[@id=\"d_chart_search\"]/div/h4[2]/a').click()\n",
    "time.sleep(3)\n",
    "driver.find_element_by_xpath('//*[@id=\"d_chart_search\"]/div/div/div[1]/div[1]/ul/li[1]').click()\n",
    "time.sleep(3)\n",
    "driver.find_element_by_xpath('//*[@id=\"d_chart_search\"]/div/div/div[2]/div[1]/ul/li[1]').click()\n",
    "time.sleep(3)\n",
    "driver.find_element_by_xpath('//*[@id=\"d_chart_search\"]/div/div/div[3]/div[1]/ul/li[5]').click()\n",
    "time.sleep(3)\n",
    "driver.find_element_by_xpath('//*[@id=\"d_chart_search\"]/div/div/div[5]/div[1]/ul/li[2]').click()\n",
    "time.sleep(3)\n",
    "driver.find_element_by_xpath('//*[@id=\"d_srch_form\"]/div[2]/button/span/span').click()\n"
   ]
  },
  {
   "cell_type": "code",
   "execution_count": 207,
   "metadata": {},
   "outputs": [
    {
     "ename": "NoSuchElementException",
     "evalue": "Message: no such element: Unable to locate element: {\"method\":\"xpath\",\"selector\":\"//*[@id=\"d_chart_search\"]/div/div/div[1]/div[1]/ul/li[1]\"}\n  (Session info: chrome=91.0.4472.114)\n",
     "output_type": "error",
     "traceback": [
      "\u001b[1;31m---------------------------------------------------------------------------\u001b[0m",
      "\u001b[1;31mNoSuchElementException\u001b[0m                    Traceback (most recent call last)",
      "\u001b[1;32m<ipython-input-207-3630c7cdf536>\u001b[0m in \u001b[0;36m<module>\u001b[1;34m\u001b[0m\n\u001b[0;32m      9\u001b[0m \u001b[1;33m\u001b[0m\u001b[0m\n\u001b[0;32m     10\u001b[0m \u001b[1;31m#2020년대 선택\u001b[0m\u001b[1;33m\u001b[0m\u001b[1;33m\u001b[0m\u001b[1;33m\u001b[0m\u001b[0m\n\u001b[1;32m---> 11\u001b[1;33m \u001b[0msome_tag4\u001b[0m \u001b[1;33m=\u001b[0m \u001b[0mdriver\u001b[0m\u001b[1;33m.\u001b[0m\u001b[0mfind_element_by_xpath\u001b[0m\u001b[1;33m(\u001b[0m\u001b[1;34m'//*[@id=\"d_chart_search\"]/div/div/div[1]/div[1]/ul/li[1]'\u001b[0m\u001b[1;33m)\u001b[0m\u001b[1;33m\u001b[0m\u001b[1;33m\u001b[0m\u001b[0m\n\u001b[0m\u001b[0;32m     12\u001b[0m \u001b[0mActionChains\u001b[0m\u001b[1;33m(\u001b[0m\u001b[0mdriver\u001b[0m\u001b[1;33m)\u001b[0m\u001b[1;33m.\u001b[0m\u001b[0mmove_to_element\u001b[0m\u001b[1;33m(\u001b[0m\u001b[0msome_tag4\u001b[0m\u001b[1;33m)\u001b[0m\u001b[1;33m.\u001b[0m\u001b[0mperform\u001b[0m\u001b[1;33m(\u001b[0m\u001b[1;33m)\u001b[0m\u001b[1;33m\u001b[0m\u001b[1;33m\u001b[0m\u001b[0m\n\u001b[0;32m     13\u001b[0m \u001b[0msome_tag4\u001b[0m\u001b[1;33m.\u001b[0m\u001b[0mclick\u001b[0m\u001b[1;33m(\u001b[0m\u001b[1;33m)\u001b[0m\u001b[1;33m\u001b[0m\u001b[1;33m\u001b[0m\u001b[0m\n",
      "\u001b[1;32mC:\\anaconda3\\lib\\site-packages\\selenium\\webdriver\\remote\\webdriver.py\u001b[0m in \u001b[0;36mfind_element_by_xpath\u001b[1;34m(self, xpath)\u001b[0m\n\u001b[0;32m    392\u001b[0m             \u001b[0melement\u001b[0m \u001b[1;33m=\u001b[0m \u001b[0mdriver\u001b[0m\u001b[1;33m.\u001b[0m\u001b[0mfind_element_by_xpath\u001b[0m\u001b[1;33m(\u001b[0m\u001b[1;34m'//div/td[1]'\u001b[0m\u001b[1;33m)\u001b[0m\u001b[1;33m\u001b[0m\u001b[1;33m\u001b[0m\u001b[0m\n\u001b[0;32m    393\u001b[0m         \"\"\"\n\u001b[1;32m--> 394\u001b[1;33m         \u001b[1;32mreturn\u001b[0m \u001b[0mself\u001b[0m\u001b[1;33m.\u001b[0m\u001b[0mfind_element\u001b[0m\u001b[1;33m(\u001b[0m\u001b[0mby\u001b[0m\u001b[1;33m=\u001b[0m\u001b[0mBy\u001b[0m\u001b[1;33m.\u001b[0m\u001b[0mXPATH\u001b[0m\u001b[1;33m,\u001b[0m \u001b[0mvalue\u001b[0m\u001b[1;33m=\u001b[0m\u001b[0mxpath\u001b[0m\u001b[1;33m)\u001b[0m\u001b[1;33m\u001b[0m\u001b[1;33m\u001b[0m\u001b[0m\n\u001b[0m\u001b[0;32m    395\u001b[0m \u001b[1;33m\u001b[0m\u001b[0m\n\u001b[0;32m    396\u001b[0m     \u001b[1;32mdef\u001b[0m \u001b[0mfind_elements_by_xpath\u001b[0m\u001b[1;33m(\u001b[0m\u001b[0mself\u001b[0m\u001b[1;33m,\u001b[0m \u001b[0mxpath\u001b[0m\u001b[1;33m)\u001b[0m\u001b[1;33m:\u001b[0m\u001b[1;33m\u001b[0m\u001b[1;33m\u001b[0m\u001b[0m\n",
      "\u001b[1;32mC:\\anaconda3\\lib\\site-packages\\selenium\\webdriver\\remote\\webdriver.py\u001b[0m in \u001b[0;36mfind_element\u001b[1;34m(self, by, value)\u001b[0m\n\u001b[0;32m    974\u001b[0m                 \u001b[0mby\u001b[0m \u001b[1;33m=\u001b[0m \u001b[0mBy\u001b[0m\u001b[1;33m.\u001b[0m\u001b[0mCSS_SELECTOR\u001b[0m\u001b[1;33m\u001b[0m\u001b[1;33m\u001b[0m\u001b[0m\n\u001b[0;32m    975\u001b[0m                 \u001b[0mvalue\u001b[0m \u001b[1;33m=\u001b[0m \u001b[1;34m'[name=\"%s\"]'\u001b[0m \u001b[1;33m%\u001b[0m \u001b[0mvalue\u001b[0m\u001b[1;33m\u001b[0m\u001b[1;33m\u001b[0m\u001b[0m\n\u001b[1;32m--> 976\u001b[1;33m         return self.execute(Command.FIND_ELEMENT, {\n\u001b[0m\u001b[0;32m    977\u001b[0m             \u001b[1;34m'using'\u001b[0m\u001b[1;33m:\u001b[0m \u001b[0mby\u001b[0m\u001b[1;33m,\u001b[0m\u001b[1;33m\u001b[0m\u001b[1;33m\u001b[0m\u001b[0m\n\u001b[0;32m    978\u001b[0m             'value': value})['value']\n",
      "\u001b[1;32mC:\\anaconda3\\lib\\site-packages\\selenium\\webdriver\\remote\\webdriver.py\u001b[0m in \u001b[0;36mexecute\u001b[1;34m(self, driver_command, params)\u001b[0m\n\u001b[0;32m    319\u001b[0m         \u001b[0mresponse\u001b[0m \u001b[1;33m=\u001b[0m \u001b[0mself\u001b[0m\u001b[1;33m.\u001b[0m\u001b[0mcommand_executor\u001b[0m\u001b[1;33m.\u001b[0m\u001b[0mexecute\u001b[0m\u001b[1;33m(\u001b[0m\u001b[0mdriver_command\u001b[0m\u001b[1;33m,\u001b[0m \u001b[0mparams\u001b[0m\u001b[1;33m)\u001b[0m\u001b[1;33m\u001b[0m\u001b[1;33m\u001b[0m\u001b[0m\n\u001b[0;32m    320\u001b[0m         \u001b[1;32mif\u001b[0m \u001b[0mresponse\u001b[0m\u001b[1;33m:\u001b[0m\u001b[1;33m\u001b[0m\u001b[1;33m\u001b[0m\u001b[0m\n\u001b[1;32m--> 321\u001b[1;33m             \u001b[0mself\u001b[0m\u001b[1;33m.\u001b[0m\u001b[0merror_handler\u001b[0m\u001b[1;33m.\u001b[0m\u001b[0mcheck_response\u001b[0m\u001b[1;33m(\u001b[0m\u001b[0mresponse\u001b[0m\u001b[1;33m)\u001b[0m\u001b[1;33m\u001b[0m\u001b[1;33m\u001b[0m\u001b[0m\n\u001b[0m\u001b[0;32m    322\u001b[0m             response['value'] = self._unwrap_value(\n\u001b[0;32m    323\u001b[0m                 response.get('value', None))\n",
      "\u001b[1;32mC:\\anaconda3\\lib\\site-packages\\selenium\\webdriver\\remote\\errorhandler.py\u001b[0m in \u001b[0;36mcheck_response\u001b[1;34m(self, response)\u001b[0m\n\u001b[0;32m    240\u001b[0m                 \u001b[0malert_text\u001b[0m \u001b[1;33m=\u001b[0m \u001b[0mvalue\u001b[0m\u001b[1;33m[\u001b[0m\u001b[1;34m'alert'\u001b[0m\u001b[1;33m]\u001b[0m\u001b[1;33m.\u001b[0m\u001b[0mget\u001b[0m\u001b[1;33m(\u001b[0m\u001b[1;34m'text'\u001b[0m\u001b[1;33m)\u001b[0m\u001b[1;33m\u001b[0m\u001b[1;33m\u001b[0m\u001b[0m\n\u001b[0;32m    241\u001b[0m             \u001b[1;32mraise\u001b[0m \u001b[0mexception_class\u001b[0m\u001b[1;33m(\u001b[0m\u001b[0mmessage\u001b[0m\u001b[1;33m,\u001b[0m \u001b[0mscreen\u001b[0m\u001b[1;33m,\u001b[0m \u001b[0mstacktrace\u001b[0m\u001b[1;33m,\u001b[0m \u001b[0malert_text\u001b[0m\u001b[1;33m)\u001b[0m\u001b[1;33m\u001b[0m\u001b[1;33m\u001b[0m\u001b[0m\n\u001b[1;32m--> 242\u001b[1;33m         \u001b[1;32mraise\u001b[0m \u001b[0mexception_class\u001b[0m\u001b[1;33m(\u001b[0m\u001b[0mmessage\u001b[0m\u001b[1;33m,\u001b[0m \u001b[0mscreen\u001b[0m\u001b[1;33m,\u001b[0m \u001b[0mstacktrace\u001b[0m\u001b[1;33m)\u001b[0m\u001b[1;33m\u001b[0m\u001b[1;33m\u001b[0m\u001b[0m\n\u001b[0m\u001b[0;32m    243\u001b[0m \u001b[1;33m\u001b[0m\u001b[0m\n\u001b[0;32m    244\u001b[0m     \u001b[1;32mdef\u001b[0m \u001b[0m_value_or_default\u001b[0m\u001b[1;33m(\u001b[0m\u001b[0mself\u001b[0m\u001b[1;33m,\u001b[0m \u001b[0mobj\u001b[0m\u001b[1;33m,\u001b[0m \u001b[0mkey\u001b[0m\u001b[1;33m,\u001b[0m \u001b[0mdefault\u001b[0m\u001b[1;33m)\u001b[0m\u001b[1;33m:\u001b[0m\u001b[1;33m\u001b[0m\u001b[1;33m\u001b[0m\u001b[0m\n",
      "\u001b[1;31mNoSuchElementException\u001b[0m: Message: no such element: Unable to locate element: {\"method\":\"xpath\",\"selector\":\"//*[@id=\"d_chart_search\"]/div/div/div[1]/div[1]/ul/li[1]\"}\n  (Session info: chrome=91.0.4472.114)\n"
     ]
    }
   ],
   "source": [
    "    some_tag = driver.find_element_by_xpath('//*[@id=\"gnb_menu\"]/ul[1]/li[1]/div/div/button/span')\n",
    "    ActionChains(driver).move_to_element(some_tag).perform()\n",
    "    some_tag.click()\n",
    "    \n",
    "#월간 차트\n",
    "    some_tag3 = driver.find_element_by_xpath('//*[@id=\"d_chart_search\"]/div/h4[2]/a')\n",
    "    ActionChains(driver).move_to_element(some_tag3).perform()\n",
    "    some_tag3.click()\n",
    "    \n",
    "    #2020년대 선택\n",
    "    some_tag4 = driver.find_element_by_xpath('//*[@id=\"d_chart_search\"]/div/div/div[1]/div[1]/ul/li[1]')\n",
    "    ActionChains(driver).move_to_element(some_tag4).perform()\n",
    "    some_tag4.click()\n",
    "    \n",
    "    #연도선택 - 2021년\n",
    "    some_tag5 = driver.find_element_by_xpath('//*[@id=\"d_chart_search\"]/div/div/div[2]/div[1]/ul/li[1]')\n",
    "    ActionChains(driver).move_to_element(some_tag5).perform()\n",
    "    some_tag5.click()\n",
    "    \n",
    "    #월간선택 - 05월\n",
    "    some_tag6 = driver.find_element_by_xpath('//*[@id=\"d_chart_search\"]/div/div/div[3]/div[1]/ul/li[5]')\n",
    "    ActionChains(driver).move_to_element(some_tag6).perform()\n",
    "    some_tag.click()\n",
    "    \n",
    "    #국내종합 클릭\n",
    "    some_tag7 = driver.find_element_by_xpath('//*[@id=\"d_chart_search\"]/div/div/div[5]/div[1]/ul/li[2]')\n",
    "    ActionChains(driver).move_to_element(some_tag7).perform()\n",
    "    some_tag7.click()\n",
    "    \n",
    "    #검색 클릭\n",
    "    some_tag8 = driver.find_element_by_xpath('//*[@id=\"d_srch_form\"]/div[2]/button/span/span')\n",
    "    ActionChains(driver).move_to_element(some_tag8).perform()\n",
    "    some_tag8.click()"
   ]
  },
  {
   "cell_type": "code",
   "execution_count": 170,
   "metadata": {},
   "outputs": [
    {
     "name": "stdout",
     "output_type": "stream",
     "text": [
      "제목 :  롤린 (Rollin')\n",
      "가수 :  브레이브걸스\n",
      "앨범명 :  Rollin'\n",
      "발매일 :  2017.03.07\n",
      "장르 :  댄스\n"
     ]
    },
    {
     "ename": "NoSuchElementException",
     "evalue": "Message: no such element: Unable to locate element: {\"method\":\"xpath\",\"selector\":\"//*[@id=\"d_chart_search\"]/div/div/div[2]/div[1]/ul/li[1]\"}\n  (Session info: chrome=91.0.4472.114)\n",
     "output_type": "error",
     "traceback": [
      "\u001b[1;31m---------------------------------------------------------------------------\u001b[0m",
      "\u001b[1;31mNoSuchElementException\u001b[0m                    Traceback (most recent call last)",
      "\u001b[1;32m<ipython-input-170-eca740cf600d>\u001b[0m in \u001b[0;36m<module>\u001b[1;34m\u001b[0m\n\u001b[0;32m     34\u001b[0m     \u001b[0msome_tag4\u001b[0m\u001b[1;33m.\u001b[0m\u001b[0mclick\u001b[0m\u001b[1;33m(\u001b[0m\u001b[1;33m)\u001b[0m\u001b[1;33m\u001b[0m\u001b[1;33m\u001b[0m\u001b[0m\n\u001b[0;32m     35\u001b[0m     \u001b[1;31m#연도선택 - 2021년\u001b[0m\u001b[1;33m\u001b[0m\u001b[1;33m\u001b[0m\u001b[1;33m\u001b[0m\u001b[0m\n\u001b[1;32m---> 36\u001b[1;33m     \u001b[0msome_tag5\u001b[0m \u001b[1;33m=\u001b[0m \u001b[0mdriver\u001b[0m\u001b[1;33m.\u001b[0m\u001b[0mfind_element_by_xpath\u001b[0m\u001b[1;33m(\u001b[0m\u001b[1;34m'//*[@id=\"d_chart_search\"]/div/div/div[2]/div[1]/ul/li[1]'\u001b[0m\u001b[1;33m)\u001b[0m\u001b[1;33m\u001b[0m\u001b[1;33m\u001b[0m\u001b[0m\n\u001b[0m\u001b[0;32m     37\u001b[0m     \u001b[0mActionChains\u001b[0m\u001b[1;33m(\u001b[0m\u001b[0mdriver\u001b[0m\u001b[1;33m)\u001b[0m\u001b[1;33m.\u001b[0m\u001b[0mmove_to_element\u001b[0m\u001b[1;33m(\u001b[0m\u001b[0msome_tag5\u001b[0m\u001b[1;33m)\u001b[0m\u001b[1;33m.\u001b[0m\u001b[0mperform\u001b[0m\u001b[1;33m(\u001b[0m\u001b[1;33m)\u001b[0m\u001b[1;33m\u001b[0m\u001b[1;33m\u001b[0m\u001b[0m\n\u001b[0;32m     38\u001b[0m     \u001b[0msome_tag5\u001b[0m\u001b[1;33m.\u001b[0m\u001b[0mclick\u001b[0m\u001b[1;33m(\u001b[0m\u001b[1;33m)\u001b[0m\u001b[1;33m\u001b[0m\u001b[1;33m\u001b[0m\u001b[0m\n",
      "\u001b[1;32mC:\\anaconda3\\lib\\site-packages\\selenium\\webdriver\\remote\\webdriver.py\u001b[0m in \u001b[0;36mfind_element_by_xpath\u001b[1;34m(self, xpath)\u001b[0m\n\u001b[0;32m    392\u001b[0m             \u001b[0melement\u001b[0m \u001b[1;33m=\u001b[0m \u001b[0mdriver\u001b[0m\u001b[1;33m.\u001b[0m\u001b[0mfind_element_by_xpath\u001b[0m\u001b[1;33m(\u001b[0m\u001b[1;34m'//div/td[1]'\u001b[0m\u001b[1;33m)\u001b[0m\u001b[1;33m\u001b[0m\u001b[1;33m\u001b[0m\u001b[0m\n\u001b[0;32m    393\u001b[0m         \"\"\"\n\u001b[1;32m--> 394\u001b[1;33m         \u001b[1;32mreturn\u001b[0m \u001b[0mself\u001b[0m\u001b[1;33m.\u001b[0m\u001b[0mfind_element\u001b[0m\u001b[1;33m(\u001b[0m\u001b[0mby\u001b[0m\u001b[1;33m=\u001b[0m\u001b[0mBy\u001b[0m\u001b[1;33m.\u001b[0m\u001b[0mXPATH\u001b[0m\u001b[1;33m,\u001b[0m \u001b[0mvalue\u001b[0m\u001b[1;33m=\u001b[0m\u001b[0mxpath\u001b[0m\u001b[1;33m)\u001b[0m\u001b[1;33m\u001b[0m\u001b[1;33m\u001b[0m\u001b[0m\n\u001b[0m\u001b[0;32m    395\u001b[0m \u001b[1;33m\u001b[0m\u001b[0m\n\u001b[0;32m    396\u001b[0m     \u001b[1;32mdef\u001b[0m \u001b[0mfind_elements_by_xpath\u001b[0m\u001b[1;33m(\u001b[0m\u001b[0mself\u001b[0m\u001b[1;33m,\u001b[0m \u001b[0mxpath\u001b[0m\u001b[1;33m)\u001b[0m\u001b[1;33m:\u001b[0m\u001b[1;33m\u001b[0m\u001b[1;33m\u001b[0m\u001b[0m\n",
      "\u001b[1;32mC:\\anaconda3\\lib\\site-packages\\selenium\\webdriver\\remote\\webdriver.py\u001b[0m in \u001b[0;36mfind_element\u001b[1;34m(self, by, value)\u001b[0m\n\u001b[0;32m    974\u001b[0m                 \u001b[0mby\u001b[0m \u001b[1;33m=\u001b[0m \u001b[0mBy\u001b[0m\u001b[1;33m.\u001b[0m\u001b[0mCSS_SELECTOR\u001b[0m\u001b[1;33m\u001b[0m\u001b[1;33m\u001b[0m\u001b[0m\n\u001b[0;32m    975\u001b[0m                 \u001b[0mvalue\u001b[0m \u001b[1;33m=\u001b[0m \u001b[1;34m'[name=\"%s\"]'\u001b[0m \u001b[1;33m%\u001b[0m \u001b[0mvalue\u001b[0m\u001b[1;33m\u001b[0m\u001b[1;33m\u001b[0m\u001b[0m\n\u001b[1;32m--> 976\u001b[1;33m         return self.execute(Command.FIND_ELEMENT, {\n\u001b[0m\u001b[0;32m    977\u001b[0m             \u001b[1;34m'using'\u001b[0m\u001b[1;33m:\u001b[0m \u001b[0mby\u001b[0m\u001b[1;33m,\u001b[0m\u001b[1;33m\u001b[0m\u001b[1;33m\u001b[0m\u001b[0m\n\u001b[0;32m    978\u001b[0m             'value': value})['value']\n",
      "\u001b[1;32mC:\\anaconda3\\lib\\site-packages\\selenium\\webdriver\\remote\\webdriver.py\u001b[0m in \u001b[0;36mexecute\u001b[1;34m(self, driver_command, params)\u001b[0m\n\u001b[0;32m    319\u001b[0m         \u001b[0mresponse\u001b[0m \u001b[1;33m=\u001b[0m \u001b[0mself\u001b[0m\u001b[1;33m.\u001b[0m\u001b[0mcommand_executor\u001b[0m\u001b[1;33m.\u001b[0m\u001b[0mexecute\u001b[0m\u001b[1;33m(\u001b[0m\u001b[0mdriver_command\u001b[0m\u001b[1;33m,\u001b[0m \u001b[0mparams\u001b[0m\u001b[1;33m)\u001b[0m\u001b[1;33m\u001b[0m\u001b[1;33m\u001b[0m\u001b[0m\n\u001b[0;32m    320\u001b[0m         \u001b[1;32mif\u001b[0m \u001b[0mresponse\u001b[0m\u001b[1;33m:\u001b[0m\u001b[1;33m\u001b[0m\u001b[1;33m\u001b[0m\u001b[0m\n\u001b[1;32m--> 321\u001b[1;33m             \u001b[0mself\u001b[0m\u001b[1;33m.\u001b[0m\u001b[0merror_handler\u001b[0m\u001b[1;33m.\u001b[0m\u001b[0mcheck_response\u001b[0m\u001b[1;33m(\u001b[0m\u001b[0mresponse\u001b[0m\u001b[1;33m)\u001b[0m\u001b[1;33m\u001b[0m\u001b[1;33m\u001b[0m\u001b[0m\n\u001b[0m\u001b[0;32m    322\u001b[0m             response['value'] = self._unwrap_value(\n\u001b[0;32m    323\u001b[0m                 response.get('value', None))\n",
      "\u001b[1;32mC:\\anaconda3\\lib\\site-packages\\selenium\\webdriver\\remote\\errorhandler.py\u001b[0m in \u001b[0;36mcheck_response\u001b[1;34m(self, response)\u001b[0m\n\u001b[0;32m    240\u001b[0m                 \u001b[0malert_text\u001b[0m \u001b[1;33m=\u001b[0m \u001b[0mvalue\u001b[0m\u001b[1;33m[\u001b[0m\u001b[1;34m'alert'\u001b[0m\u001b[1;33m]\u001b[0m\u001b[1;33m.\u001b[0m\u001b[0mget\u001b[0m\u001b[1;33m(\u001b[0m\u001b[1;34m'text'\u001b[0m\u001b[1;33m)\u001b[0m\u001b[1;33m\u001b[0m\u001b[1;33m\u001b[0m\u001b[0m\n\u001b[0;32m    241\u001b[0m             \u001b[1;32mraise\u001b[0m \u001b[0mexception_class\u001b[0m\u001b[1;33m(\u001b[0m\u001b[0mmessage\u001b[0m\u001b[1;33m,\u001b[0m \u001b[0mscreen\u001b[0m\u001b[1;33m,\u001b[0m \u001b[0mstacktrace\u001b[0m\u001b[1;33m,\u001b[0m \u001b[0malert_text\u001b[0m\u001b[1;33m)\u001b[0m\u001b[1;33m\u001b[0m\u001b[1;33m\u001b[0m\u001b[0m\n\u001b[1;32m--> 242\u001b[1;33m         \u001b[1;32mraise\u001b[0m \u001b[0mexception_class\u001b[0m\u001b[1;33m(\u001b[0m\u001b[0mmessage\u001b[0m\u001b[1;33m,\u001b[0m \u001b[0mscreen\u001b[0m\u001b[1;33m,\u001b[0m \u001b[0mstacktrace\u001b[0m\u001b[1;33m)\u001b[0m\u001b[1;33m\u001b[0m\u001b[1;33m\u001b[0m\u001b[0m\n\u001b[0m\u001b[0;32m    243\u001b[0m \u001b[1;33m\u001b[0m\u001b[0m\n\u001b[0;32m    244\u001b[0m     \u001b[1;32mdef\u001b[0m \u001b[0m_value_or_default\u001b[0m\u001b[1;33m(\u001b[0m\u001b[0mself\u001b[0m\u001b[1;33m,\u001b[0m \u001b[0mobj\u001b[0m\u001b[1;33m,\u001b[0m \u001b[0mkey\u001b[0m\u001b[1;33m,\u001b[0m \u001b[0mdefault\u001b[0m\u001b[1;33m)\u001b[0m\u001b[1;33m:\u001b[0m\u001b[1;33m\u001b[0m\u001b[1;33m\u001b[0m\u001b[0m\n",
      "\u001b[1;31mNoSuchElementException\u001b[0m: Message: no such element: Unable to locate element: {\"method\":\"xpath\",\"selector\":\"//*[@id=\"d_chart_search\"]/div/div/div[2]/div[1]/ul/li[1]\"}\n  (Session info: chrome=91.0.4472.114)\n"
     ]
    }
   ],
   "source": [
    "import time\n",
    "for i in range(1,3):\n",
    "    some_tag = driver.find_element_by_xpath('//*[@id=\"lst50\"]/td[4]/div/a/span')\n",
    "    ActionChains(driver).move_to_element(some_tag).perform()\n",
    "    some_tag.click()\n",
    "    \n",
    "    song = driver.find_element_by_xpath('//*[@id=\"downloadfrm\"]/div/div/div[2]/div[1]/div[1]')\n",
    "    singer = driver.find_element_by_xpath('//*[@id=\"downloadfrm\"]/div/div/div[2]/div[1]/div[2]/a/span[1]')\n",
    "    album = driver.find_element_by_xpath('//*[@id=\"downloadfrm\"]/div/div/div[2]/div[2]/dl/dd[1]/a')\n",
    "    release = driver.find_element_by_xpath('//*[@id=\"downloadfrm\"]/div/div/div[2]/div[2]/dl/dd[2]')\n",
    "    genre = driver.find_element_by_xpath('//*[@id=\"downloadfrm\"]/div/div/div[2]/div[2]/dl/dd[3]')\n",
    "\n",
    "    print(\"제목 : \" ,song.text)\n",
    "    print(\"가수 : \", singer.text)\n",
    "    print(\"앨범명 : \" ,album.text)\n",
    "    print(\"발매일 : \", release.text)\n",
    "    print(\"장르 : \", genre.text)\n",
    "    \n",
    "    some_tag1 = driver.find_element_by_xpath('//*[@id=\"gnb_menu\"]/ul[1]/li[1]/a/span[2]')\n",
    "    ActionChains(driver).move_to_element(some_tag1).perform()\n",
    "    some_tag1.click()\n",
    "    \n",
    "    some_tag2 = driver.find_element_by_xpath('//*[@id=\"gnb_menu\"]/ul[1]/li[1]/div/div/button/span')\n",
    "    ActionChains(driver).move_to_element(some_tag2).perform()\n",
    "    some_tag2.click()\n",
    "    \n",
    "    \n",
    "    #월간 차트\n",
    "    some_tag3 = driver.find_element_by_xpath('//*[@id=\"d_chart_search\"]/div/h4[2]/a')\n",
    "    ActionChains(driver).move_to_element(some_tag3).perform()\n",
    "    some_tag3.click()\n",
    "    \n",
    "    #2020년대 선택\n",
    "    some_tag4 = driver.find_element_by_xpath('//*[@id=\"d_chart_search\"]/div/div/div[1]/div[1]/ul/li[1]')\n",
    "    ActionChains(driver).move_to_element(some_tag4).perform()\n",
    "    some_tag4.click()\n",
    "    \n",
    "    #연도선택 - 2021년\n",
    "    some_tag5 = driver.find_element_by_xpath('//*[@id=\"d_chart_search\"]/div/div/div[2]/div[1]/ul/li[1]')\n",
    "    ActionChains(driver).move_to_element(some_tag5).perform()\n",
    "    some_tag5.click()\n",
    "    \n",
    "    #월간선택 - 05월\n",
    "    some_tag6 = driver.find_element_by_xpath('//*[@id=\"d_chart_search\"]/div/div/div[3]/div[1]/ul/li[5]')\n",
    "    ActionChains(driver).move_to_element(some_tag6).perform()\n",
    "    some_tag.click()\n",
    "    \n",
    "    #국내종합 클릭\n",
    "    some_tag7 = driver.find_element_by_xpath('//*[@id=\"d_chart_search\"]/div/div/div[5]/div[1]/ul/li[2]')\n",
    "    ActionChains(driver).move_to_element(some_tag7).perform()\n",
    "    some_tag7.click()\n",
    "    \n",
    "    #검색 클릭\n",
    "    some_tag8 = driver.find_element_by_xpath('//*[@id=\"d_srch_form\"]/div[2]/button/span/span')\n",
    "    ActionChains(driver).move_to_element(some_tag8).perform()\n",
    "    some_tag8.click()\n",
    "    \n",
    "    time.sleep(3)"
   ]
  },
  {
   "cell_type": "code",
   "execution_count": 185,
   "metadata": {},
   "outputs": [
    {
     "name": "stdout",
     "output_type": "stream",
     "text": [
      "https://www.melon.com/song/detail.htm?songId=10043575\n",
      "https://www.melon.com/song/detail.htm?songId=10554246\n",
      "https://www.melon.com/song/detail.htm?songId=10476623\n",
      "https://www.melon.com/song/detail.htm?songId=10554246\n",
      "https://www.melon.com/song/detail.htm?songId=399659\n",
      "https://www.melon.com/song/detail.htm?songId=10479150\n",
      "https://www.melon.com/song/detail.htm?songId=376502\n",
      "https://www.melon.com/song/detail.htm?songId=10604729\n",
      "https://www.melon.com/song/detail.htm?songId=332658\n",
      "https://www.melon.com/song/detail.htm?songId=1286252\n",
      "https://www.melon.com/song/detail.htm?songId=10554246\n",
      "https://www.melon.com/song/detail.htm?songId=10540298\n",
      "https://www.melon.com/song/detail.htm?songId=10573486\n",
      "https://www.melon.com/song/detail.htm?songId=10600760\n",
      "https://www.melon.com/song/detail.htm?songId=10570193\n",
      "https://www.melon.com/song/detail.htm?songId=10576966\n",
      "https://www.melon.com/song/detail.htm?songId=10518234\n",
      "https://www.melon.com/song/detail.htm?songId=10580227\n",
      "https://www.melon.com/song/detail.htm?songId=10589127\n",
      "https://www.melon.com/song/detail.htm?songId=10612483\n",
      "https://www.melon.com/song/detail.htm?songId=10508266\n",
      "https://www.melon.com/song/detail.htm?songId=2677681\n",
      "https://www.melon.com/song/detail.htm?songId=10346650\n",
      "https://www.melon.com/song/detail.htm?songId=10590812\n",
      "https://www.melon.com/song/detail.htm?songId=10463600\n",
      "https://www.melon.com/song/detail.htm?songId=10498032\n",
      "https://www.melon.com/song/detail.htm?songId=10426648\n",
      "https://www.melon.com/song/detail.htm?songId=10554246\n",
      "https://www.melon.com/song/detail.htm?songId=10521601\n",
      "https://www.melon.com/song/detail.htm?songId=50578\n",
      "https://www.melon.com/song/detail.htm?songId=10507546\n",
      "https://www.melon.com/song/detail.htm?songId=10320500\n",
      "https://www.melon.com/song/detail.htm?songId=10609232\n",
      "https://www.melon.com/song/detail.htm?songId=10331947\n",
      "https://www.melon.com/song/detail.htm?songId=10527955\n",
      "https://www.melon.com/song/detail.htm?songId=10556610\n",
      "https://www.melon.com/song/detail.htm?songId=10423289\n",
      "https://www.melon.com/song/detail.htm?songId=10552055\n",
      "https://www.melon.com/song/detail.htm?songId=2148596\n",
      "https://www.melon.com/song/detail.htm?songId=10611845\n",
      "https://www.melon.com/song/detail.htm?songId=10359162\n",
      "https://www.melon.com/song/detail.htm?songId=10273641\n",
      "https://www.melon.com/song/detail.htm?songId=10149492\n",
      "https://www.melon.com/song/detail.htm?songId=10521521\n",
      "https://www.melon.com/song/detail.htm?songId=10037969\n",
      "https://www.melon.com/song/detail.htm?songId=10505118\n",
      "https://www.melon.com/song/detail.htm?songId=10409054\n",
      "https://www.melon.com/song/detail.htm?songId=10359126\n",
      "https://www.melon.com/song/detail.htm?songId=10598763\n",
      "https://www.melon.com/song/detail.htm?songId=10416034\n",
      "https://www.melon.com/song/detail.htm?songId=10399190\n",
      "https://www.melon.com/song/detail.htm?songId=10423289\n",
      "https://www.melon.com/song/detail.htm?songId=10294603\n",
      "https://www.melon.com/song/detail.htm?songId=10554246\n",
      "https://www.melon.com/song/detail.htm?songId=10554246\n",
      "https://www.melon.com/song/detail.htm?songId=10348811\n",
      "https://www.melon.com/song/detail.htm?songId=10451566\n",
      "https://www.melon.com/song/detail.htm?songId=10577197\n",
      "https://www.melon.com/song/detail.htm?songId=10596629\n",
      "https://www.melon.com/song/detail.htm?songId=10412319\n",
      "https://www.melon.com/song/detail.htm?songId=10388744\n",
      "https://www.melon.com/song/detail.htm?songId=10559322\n",
      "https://www.melon.com/song/detail.htm?songId=10554246\n",
      "https://www.melon.com/song/detail.htm?songId=10478925\n",
      "https://www.melon.com/song/detail.htm?songId=10566182\n",
      "https://www.melon.com/song/detail.htm?songId=10475061\n",
      "https://www.melon.com/song/detail.htm?songId=10346650\n",
      "https://www.melon.com/song/detail.htm?songId=10217134\n",
      "https://www.melon.com/song/detail.htm?songId=50578\n",
      "https://www.melon.com/song/detail.htm?songId=10381712\n",
      "https://www.melon.com/song/detail.htm?songId=10353881\n",
      "https://www.melon.com/song/detail.htm?songId=10539679\n",
      "https://www.melon.com/song/detail.htm?songId=10613163\n",
      "https://www.melon.com/song/detail.htm?songId=10527241\n",
      "https://www.melon.com/song/detail.htm?songId=10529161\n",
      "https://www.melon.com/song/detail.htm?songId=10460544\n",
      "https://www.melon.com/song/detail.htm?songId=10575105\n",
      "https://www.melon.com/song/detail.htm?songId=10554246\n",
      "https://www.melon.com/song/detail.htm?songId=10425277\n",
      "https://www.melon.com/song/detail.htm?songId=10117789\n",
      "https://www.melon.com/song/detail.htm?songId=10317137\n",
      "https://www.melon.com/song/detail.htm?songId=10602760\n",
      "https://www.melon.com/song/detail.htm?songId=349217\n",
      "https://www.melon.com/song/detail.htm?songId=10576966\n",
      "https://www.melon.com/song/detail.htm?songId=10440381\n",
      "https://www.melon.com/song/detail.htm?songId=10556217\n",
      "https://www.melon.com/song/detail.htm?songId=10554246\n",
      "https://www.melon.com/song/detail.htm?songId=10505830\n",
      "https://www.melon.com/song/detail.htm?songId=10452351\n",
      "https://www.melon.com/song/detail.htm?songId=10601599\n",
      "https://www.melon.com/song/detail.htm?songId=10586941\n",
      "https://www.melon.com/song/detail.htm?songId=10606892\n",
      "https://www.melon.com/song/detail.htm?songId=10560583\n",
      "https://www.melon.com/song/detail.htm?songId=10530160\n",
      "https://www.melon.com/song/detail.htm?songId=10577232\n",
      "https://www.melon.com/song/detail.htm?songId=10555397\n",
      "https://www.melon.com/song/detail.htm?songId=10561244\n",
      "https://www.melon.com/song/detail.htm?songId=10602760\n",
      "https://www.melon.com/song/detail.htm?songId=10568243\n"
     ]
    }
   ],
   "source": [
    "import re\n",
    "for i in range(1,100):\n",
    "    songid = '//*[@id=\"frm\"]/div/table/tbody/tr[{}]/td[3]/div/a'.format(i)\n",
    "    sel_songid = driver.find_element_by_xpath(songid)\n",
    "    Id = sel_songid.get_attribute(\"href\")\n",
    "    song_Id = (re.findall(\"\\d+\",Id))\n",
    "    song_Id = \",\".join(song_Id)\n",
    "    a = song_url = \"https://www.melon.com/song/detail.htm?songId=\" + song_Id\n",
    "    print(a)"
   ]
  }
 ],
 "metadata": {
  "kernelspec": {
   "display_name": "Python 3",
   "language": "python",
   "name": "python3"
  },
  "language_info": {
   "codemirror_mode": {
    "name": "ipython",
    "version": 3
   },
   "file_extension": ".py",
   "mimetype": "text/x-python",
   "name": "python",
   "nbconvert_exporter": "python",
   "pygments_lexer": "ipython3",
   "version": "3.8.5"
  }
 },
 "nbformat": 4,
 "nbformat_minor": 4
}
