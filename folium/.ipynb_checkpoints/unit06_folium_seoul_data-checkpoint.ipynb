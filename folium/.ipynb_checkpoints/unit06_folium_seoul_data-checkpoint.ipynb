{
 "cells": [
  {
   "cell_type": "code",
   "execution_count": 1,
   "metadata": {
    "id": "H0QUrhxTZFJk"
   },
   "outputs": [],
   "source": [
    "import pandas as pd"
   ]
  },
  {
   "cell_type": "code",
   "execution_count": 8,
   "metadata": {
    "colab": {
     "base_uri": "https://localhost:8080/",
     "height": 606
    },
    "id": "vOZA3d45ZMwG",
    "outputId": "ead48edd-ca34-4e43-e4e8-69ac1d580ac7"
   },
   "outputs": [
    {
     "data": {
      "text/html": [
       "<div>\n",
       "<style scoped>\n",
       "    .dataframe tbody tr th:only-of-type {\n",
       "        vertical-align: middle;\n",
       "    }\n",
       "\n",
       "    .dataframe tbody tr th {\n",
       "        vertical-align: top;\n",
       "    }\n",
       "\n",
       "    .dataframe thead th {\n",
       "        text-align: right;\n",
       "    }\n",
       "</style>\n",
       "<table border=\"1\" class=\"dataframe\">\n",
       "  <thead>\n",
       "    <tr style=\"text-align: right;\">\n",
       "      <th></th>\n",
       "      <th>POI ID</th>\n",
       "      <th>대명칭</th>\n",
       "      <th>중명칭</th>\n",
       "      <th>소명칭</th>\n",
       "      <th>중앙좌표X1</th>\n",
       "      <th>중앙좌표Y1</th>\n",
       "      <th>WSG84X좌표</th>\n",
       "      <th>WSG84Y좌표</th>\n",
       "      <th>등록일자</th>\n",
       "      <th>수정일자</th>\n",
       "    </tr>\n",
       "  </thead>\n",
       "  <tbody>\n",
       "    <tr>\n",
       "      <th>0</th>\n",
       "      <td>102423</td>\n",
       "      <td>우성스포츠센터</td>\n",
       "      <td>민간개방화장실</td>\n",
       "      <td>NaN</td>\n",
       "      <td>192026.077328</td>\n",
       "      <td>443662.903901</td>\n",
       "      <td>126.909832</td>\n",
       "      <td>37.492386</td>\n",
       "      <td>20100712</td>\n",
       "      <td>20100712</td>\n",
       "    </tr>\n",
       "    <tr>\n",
       "      <th>1</th>\n",
       "      <td>102424</td>\n",
       "      <td>프레곤빌딩</td>\n",
       "      <td>민간개방화장실</td>\n",
       "      <td>NaN</td>\n",
       "      <td>191560.448911</td>\n",
       "      <td>442968.699196</td>\n",
       "      <td>126.904575</td>\n",
       "      <td>37.486127</td>\n",
       "      <td>20100712</td>\n",
       "      <td>20100712</td>\n",
       "    </tr>\n",
       "    <tr>\n",
       "      <th>2</th>\n",
       "      <td>102425</td>\n",
       "      <td>하림빌딩</td>\n",
       "      <td>민간개방화장실</td>\n",
       "      <td>NaN</td>\n",
       "      <td>201472.042745</td>\n",
       "      <td>443869.796509</td>\n",
       "      <td>127.016646</td>\n",
       "      <td>37.494283</td>\n",
       "      <td>20100712</td>\n",
       "      <td>20100712</td>\n",
       "    </tr>\n",
       "    <tr>\n",
       "      <th>3</th>\n",
       "      <td>102426</td>\n",
       "      <td>크레신타워</td>\n",
       "      <td>민간개방화장실</td>\n",
       "      <td>NaN</td>\n",
       "      <td>201633.540441</td>\n",
       "      <td>446523.716576</td>\n",
       "      <td>127.018478</td>\n",
       "      <td>37.518195</td>\n",
       "      <td>20100712</td>\n",
       "      <td>20100712</td>\n",
       "    </tr>\n",
       "    <tr>\n",
       "      <th>4</th>\n",
       "      <td>102483</td>\n",
       "      <td>한주실업빌딩</td>\n",
       "      <td>민간개방화장실</td>\n",
       "      <td>NaN</td>\n",
       "      <td>195045.520979</td>\n",
       "      <td>446004.024095</td>\n",
       "      <td>126.943960</td>\n",
       "      <td>37.513501</td>\n",
       "      <td>20100712</td>\n",
       "      <td>20100712</td>\n",
       "    </tr>\n",
       "    <tr>\n",
       "      <th>...</th>\n",
       "      <td>...</td>\n",
       "      <td>...</td>\n",
       "      <td>...</td>\n",
       "      <td>...</td>\n",
       "      <td>...</td>\n",
       "      <td>...</td>\n",
       "      <td>...</td>\n",
       "      <td>...</td>\n",
       "      <td>...</td>\n",
       "      <td>...</td>\n",
       "    </tr>\n",
       "    <tr>\n",
       "      <th>4933</th>\n",
       "      <td>A10008</td>\n",
       "      <td>전국모범운전자연합양천지회</td>\n",
       "      <td>민간개방화장실</td>\n",
       "      <td>NaN</td>\n",
       "      <td>188119.607000</td>\n",
       "      <td>445886.552000</td>\n",
       "      <td>126.865623</td>\n",
       "      <td>37.512379</td>\n",
       "      <td>20110506</td>\n",
       "      <td>20110506</td>\n",
       "    </tr>\n",
       "    <tr>\n",
       "      <th>4934</th>\n",
       "      <td>A10009</td>\n",
       "      <td>세림빌딩</td>\n",
       "      <td>민간개방화장실</td>\n",
       "      <td>NaN</td>\n",
       "      <td>187717.295000</td>\n",
       "      <td>446300.534000</td>\n",
       "      <td>126.861066</td>\n",
       "      <td>37.516104</td>\n",
       "      <td>20110506</td>\n",
       "      <td>20110506</td>\n",
       "    </tr>\n",
       "    <tr>\n",
       "      <th>4935</th>\n",
       "      <td>A10010</td>\n",
       "      <td>신목동주유소</td>\n",
       "      <td>민간개방화장실</td>\n",
       "      <td>NaN</td>\n",
       "      <td>188601.435000</td>\n",
       "      <td>446685.734000</td>\n",
       "      <td>126.871060</td>\n",
       "      <td>37.519586</td>\n",
       "      <td>20110506</td>\n",
       "      <td>20110506</td>\n",
       "    </tr>\n",
       "    <tr>\n",
       "      <th>4936</th>\n",
       "      <td>A10011</td>\n",
       "      <td>등원주유소</td>\n",
       "      <td>민간개방화장실</td>\n",
       "      <td>NaN</td>\n",
       "      <td>188913.820000</td>\n",
       "      <td>448906.293000</td>\n",
       "      <td>126.874561</td>\n",
       "      <td>37.539597</td>\n",
       "      <td>20110506</td>\n",
       "      <td>20110506</td>\n",
       "    </tr>\n",
       "    <tr>\n",
       "      <th>4937</th>\n",
       "      <td>A10012</td>\n",
       "      <td>신양천주유소</td>\n",
       "      <td>민간개방화장실</td>\n",
       "      <td>NaN</td>\n",
       "      <td>187929.411000</td>\n",
       "      <td>446269.665000</td>\n",
       "      <td>126.863465</td>\n",
       "      <td>37.515829</td>\n",
       "      <td>20110506</td>\n",
       "      <td>20110506</td>\n",
       "    </tr>\n",
       "  </tbody>\n",
       "</table>\n",
       "<p>4938 rows × 10 columns</p>\n",
       "</div>"
      ],
      "text/plain": [
       "      POI ID            대명칭      중명칭  ...   WSG84Y좌표      등록일자      수정일자\n",
       "0     102423        우성스포츠센터  민간개방화장실  ...  37.492386  20100712  20100712\n",
       "1     102424          프레곤빌딩  민간개방화장실  ...  37.486127  20100712  20100712\n",
       "2     102425           하림빌딩  민간개방화장실  ...  37.494283  20100712  20100712\n",
       "3     102426          크레신타워  민간개방화장실  ...  37.518195  20100712  20100712\n",
       "4     102483         한주실업빌딩  민간개방화장실  ...  37.513501  20100712  20100712\n",
       "...      ...            ...      ...  ...        ...       ...       ...\n",
       "4933  A10008  전국모범운전자연합양천지회  민간개방화장실  ...  37.512379  20110506  20110506\n",
       "4934  A10009           세림빌딩  민간개방화장실  ...  37.516104  20110506  20110506\n",
       "4935  A10010         신목동주유소  민간개방화장실  ...  37.519586  20110506  20110506\n",
       "4936  A10011          등원주유소  민간개방화장실  ...  37.539597  20110506  20110506\n",
       "4937  A10012         신양천주유소  민간개방화장실  ...  37.515829  20110506  20110506\n",
       "\n",
       "[4938 rows x 10 columns]"
      ]
     },
     "execution_count": 8,
     "metadata": {
      "tags": []
     },
     "output_type": "execute_result"
    }
   ],
   "source": [
    "dat = pd.read_csv(\"seoul_public_toilet.csv\" , engine ='python', encoding='EUCKR')\n",
    "dat"
   ]
  },
  {
   "cell_type": "code",
   "execution_count": 9,
   "metadata": {
    "colab": {
     "base_uri": "https://localhost:8080/"
    },
    "id": "mIu_sYPDZSLy",
    "outputId": "2c0b979b-8589-4532-f559-a6e11d82e295"
   },
   "outputs": [
    {
     "data": {
      "text/plain": [
       "Index(['POI ID', '대명칭', '중명칭', '소명칭', '중앙좌표X1', '중앙좌표Y1', 'WSG84X좌표',\n",
       "       'WSG84Y좌표', '등록일자', '수정일자'],\n",
       "      dtype='object')"
      ]
     },
     "execution_count": 9,
     "metadata": {
      "tags": []
     },
     "output_type": "execute_result"
    }
   ],
   "source": [
    "dat.columns"
   ]
  },
  {
   "cell_type": "code",
   "execution_count": 11,
   "metadata": {
    "colab": {
     "base_uri": "https://localhost:8080/",
     "height": 419
    },
    "id": "1fYxN2mMaCX3",
    "outputId": "f4e3d38a-6e1d-475b-b1f6-f6c5c02e750f"
   },
   "outputs": [
    {
     "data": {
      "text/html": [
       "<div>\n",
       "<style scoped>\n",
       "    .dataframe tbody tr th:only-of-type {\n",
       "        vertical-align: middle;\n",
       "    }\n",
       "\n",
       "    .dataframe tbody tr th {\n",
       "        vertical-align: top;\n",
       "    }\n",
       "\n",
       "    .dataframe thead th {\n",
       "        text-align: right;\n",
       "    }\n",
       "</style>\n",
       "<table border=\"1\" class=\"dataframe\">\n",
       "  <thead>\n",
       "    <tr style=\"text-align: right;\">\n",
       "      <th></th>\n",
       "      <th>대명칭</th>\n",
       "      <th>WSG84Y좌표</th>\n",
       "      <th>WSG84X좌표</th>\n",
       "    </tr>\n",
       "  </thead>\n",
       "  <tbody>\n",
       "    <tr>\n",
       "      <th>0</th>\n",
       "      <td>우성스포츠센터</td>\n",
       "      <td>37.492386</td>\n",
       "      <td>126.909832</td>\n",
       "    </tr>\n",
       "    <tr>\n",
       "      <th>1</th>\n",
       "      <td>프레곤빌딩</td>\n",
       "      <td>37.486127</td>\n",
       "      <td>126.904575</td>\n",
       "    </tr>\n",
       "    <tr>\n",
       "      <th>2</th>\n",
       "      <td>하림빌딩</td>\n",
       "      <td>37.494283</td>\n",
       "      <td>127.016646</td>\n",
       "    </tr>\n",
       "    <tr>\n",
       "      <th>3</th>\n",
       "      <td>크레신타워</td>\n",
       "      <td>37.518195</td>\n",
       "      <td>127.018478</td>\n",
       "    </tr>\n",
       "    <tr>\n",
       "      <th>4</th>\n",
       "      <td>한주실업빌딩</td>\n",
       "      <td>37.513501</td>\n",
       "      <td>126.943960</td>\n",
       "    </tr>\n",
       "    <tr>\n",
       "      <th>...</th>\n",
       "      <td>...</td>\n",
       "      <td>...</td>\n",
       "      <td>...</td>\n",
       "    </tr>\n",
       "    <tr>\n",
       "      <th>4933</th>\n",
       "      <td>전국모범운전자연합양천지회</td>\n",
       "      <td>37.512379</td>\n",
       "      <td>126.865623</td>\n",
       "    </tr>\n",
       "    <tr>\n",
       "      <th>4934</th>\n",
       "      <td>세림빌딩</td>\n",
       "      <td>37.516104</td>\n",
       "      <td>126.861066</td>\n",
       "    </tr>\n",
       "    <tr>\n",
       "      <th>4935</th>\n",
       "      <td>신목동주유소</td>\n",
       "      <td>37.519586</td>\n",
       "      <td>126.871060</td>\n",
       "    </tr>\n",
       "    <tr>\n",
       "      <th>4936</th>\n",
       "      <td>등원주유소</td>\n",
       "      <td>37.539597</td>\n",
       "      <td>126.874561</td>\n",
       "    </tr>\n",
       "    <tr>\n",
       "      <th>4937</th>\n",
       "      <td>신양천주유소</td>\n",
       "      <td>37.515829</td>\n",
       "      <td>126.863465</td>\n",
       "    </tr>\n",
       "  </tbody>\n",
       "</table>\n",
       "<p>4938 rows × 3 columns</p>\n",
       "</div>"
      ],
      "text/plain": [
       "                대명칭   WSG84Y좌표    WSG84X좌표\n",
       "0           우성스포츠센터  37.492386  126.909832\n",
       "1             프레곤빌딩  37.486127  126.904575\n",
       "2              하림빌딩  37.494283  127.016646\n",
       "3             크레신타워  37.518195  127.018478\n",
       "4            한주실업빌딩  37.513501  126.943960\n",
       "...             ...        ...         ...\n",
       "4933  전국모범운전자연합양천지회  37.512379  126.865623\n",
       "4934           세림빌딩  37.516104  126.861066\n",
       "4935         신목동주유소  37.519586  126.871060\n",
       "4936          등원주유소  37.539597  126.874561\n",
       "4937         신양천주유소  37.515829  126.863465\n",
       "\n",
       "[4938 rows x 3 columns]"
      ]
     },
     "execution_count": 11,
     "metadata": {
      "tags": []
     },
     "output_type": "execute_result"
    }
   ],
   "source": [
    "dat_tmp = dat.loc[ :, ['대명칭', 'WSG84Y좌표', 'WSG84X좌표' ]   ]\n",
    "dat_tmp"
   ]
  },
  {
   "cell_type": "code",
   "execution_count": 12,
   "metadata": {
    "id": "-BIafxUraRDd"
   },
   "outputs": [],
   "source": [
    "import folium"
   ]
  },
  {
   "cell_type": "code",
   "execution_count": 15,
   "metadata": {
    "colab": {
     "base_uri": "https://localhost:8080/",
     "height": 221
    },
    "id": "7aDHprbuaZKO",
    "outputId": "5415b811-d963-4f99-c1ed-8a3d314c27a6"
   },
   "outputs": [
    {
     "name": "stdout",
     "output_type": "stream",
     "text": [
      "37.54478573028457 126.98281813570502\n"
     ]
    },
    {
     "data": {
      "text/html": [
       "<div>\n",
       "<style scoped>\n",
       "    .dataframe tbody tr th:only-of-type {\n",
       "        vertical-align: middle;\n",
       "    }\n",
       "\n",
       "    .dataframe tbody tr th {\n",
       "        vertical-align: top;\n",
       "    }\n",
       "\n",
       "    .dataframe thead th {\n",
       "        text-align: right;\n",
       "    }\n",
       "</style>\n",
       "<table border=\"1\" class=\"dataframe\">\n",
       "  <thead>\n",
       "    <tr style=\"text-align: right;\">\n",
       "      <th></th>\n",
       "      <th>name</th>\n",
       "      <th>latitude</th>\n",
       "      <th>longitude</th>\n",
       "    </tr>\n",
       "  </thead>\n",
       "  <tbody>\n",
       "    <tr>\n",
       "      <th>0</th>\n",
       "      <td>우성스포츠센터</td>\n",
       "      <td>37.492386</td>\n",
       "      <td>126.909832</td>\n",
       "    </tr>\n",
       "    <tr>\n",
       "      <th>1</th>\n",
       "      <td>프레곤빌딩</td>\n",
       "      <td>37.486127</td>\n",
       "      <td>126.904575</td>\n",
       "    </tr>\n",
       "    <tr>\n",
       "      <th>2</th>\n",
       "      <td>하림빌딩</td>\n",
       "      <td>37.494283</td>\n",
       "      <td>127.016646</td>\n",
       "    </tr>\n",
       "    <tr>\n",
       "      <th>3</th>\n",
       "      <td>크레신타워</td>\n",
       "      <td>37.518195</td>\n",
       "      <td>127.018478</td>\n",
       "    </tr>\n",
       "    <tr>\n",
       "      <th>4</th>\n",
       "      <td>한주실업빌딩</td>\n",
       "      <td>37.513501</td>\n",
       "      <td>126.943960</td>\n",
       "    </tr>\n",
       "  </tbody>\n",
       "</table>\n",
       "</div>"
      ],
      "text/plain": [
       "      name   latitude   longitude\n",
       "0  우성스포츠센터  37.492386  126.909832\n",
       "1    프레곤빌딩  37.486127  126.904575\n",
       "2     하림빌딩  37.494283  127.016646\n",
       "3    크레신타워  37.518195  127.018478\n",
       "4   한주실업빌딩  37.513501  126.943960"
      ]
     },
     "execution_count": 15,
     "metadata": {
      "tags": []
     },
     "output_type": "execute_result"
    }
   ],
   "source": [
    "# 중앙 위치 찾기\n",
    "dat_tmp.columns = ['name', 'latitude', 'longitude']\n",
    "print( dat_tmp.latitude.mean(), dat_tmp.longitude.mean() )\n",
    "dat_tmp.head()"
   ]
  },
  {
   "cell_type": "code",
   "execution_count": 16,
   "metadata": {
    "colab": {
     "base_uri": "https://localhost:8080/",
     "height": 541
    },
    "id": "AyaWzgq9bA_1",
    "outputId": "0ff0e929-1b99-4767-e452-b3c49a793d3e"
   },
   "outputs": [
    {
     "data": {
      "text/html": [
       "<div style=\"width:100%;\"><div style=\"position:relative;width:100%;height:0;padding-bottom:60%;\"><span style=\"color:#565656\">Make this Notebook Trusted to load map: File -> Trust Notebook</span><iframe src=\"about:blank\" style=\"position:absolute;width:100%;height:100%;left:0;top:0;border:none !important;\" data-html=%3C%21DOCTYPE%20html%3E%0A%3Chead%3E%20%20%20%20%0A%20%20%20%20%3Cmeta%20http-equiv%3D%22content-type%22%20content%3D%22text/html%3B%20charset%3DUTF-8%22%20/%3E%0A%20%20%20%20%3Cscript%3EL_PREFER_CANVAS%3Dfalse%3B%20L_NO_TOUCH%3Dfalse%3B%20L_DISABLE_3D%3Dfalse%3B%3C/script%3E%0A%20%20%20%20%3Cscript%20src%3D%22https%3A//cdn.jsdelivr.net/npm/leaflet%401.4.0/dist/leaflet.js%22%3E%3C/script%3E%0A%20%20%20%20%3Cscript%20src%3D%22https%3A//code.jquery.com/jquery-1.12.4.min.js%22%3E%3C/script%3E%0A%20%20%20%20%3Cscript%20src%3D%22https%3A//maxcdn.bootstrapcdn.com/bootstrap/3.2.0/js/bootstrap.min.js%22%3E%3C/script%3E%0A%20%20%20%20%3Cscript%20src%3D%22https%3A//cdnjs.cloudflare.com/ajax/libs/Leaflet.awesome-markers/2.0.2/leaflet.awesome-markers.js%22%3E%3C/script%3E%0A%20%20%20%20%3Clink%20rel%3D%22stylesheet%22%20href%3D%22https%3A//cdn.jsdelivr.net/npm/leaflet%401.4.0/dist/leaflet.css%22/%3E%0A%20%20%20%20%3Clink%20rel%3D%22stylesheet%22%20href%3D%22https%3A//maxcdn.bootstrapcdn.com/bootstrap/3.2.0/css/bootstrap.min.css%22/%3E%0A%20%20%20%20%3Clink%20rel%3D%22stylesheet%22%20href%3D%22https%3A//maxcdn.bootstrapcdn.com/bootstrap/3.2.0/css/bootstrap-theme.min.css%22/%3E%0A%20%20%20%20%3Clink%20rel%3D%22stylesheet%22%20href%3D%22https%3A//maxcdn.bootstrapcdn.com/font-awesome/4.6.3/css/font-awesome.min.css%22/%3E%0A%20%20%20%20%3Clink%20rel%3D%22stylesheet%22%20href%3D%22https%3A//cdnjs.cloudflare.com/ajax/libs/Leaflet.awesome-markers/2.0.2/leaflet.awesome-markers.css%22/%3E%0A%20%20%20%20%3Clink%20rel%3D%22stylesheet%22%20href%3D%22https%3A//rawcdn.githack.com/python-visualization/folium/master/folium/templates/leaflet.awesome.rotate.css%22/%3E%0A%20%20%20%20%3Cstyle%3Ehtml%2C%20body%20%7Bwidth%3A%20100%25%3Bheight%3A%20100%25%3Bmargin%3A%200%3Bpadding%3A%200%3B%7D%3C/style%3E%0A%20%20%20%20%3Cstyle%3E%23map%20%7Bposition%3Aabsolute%3Btop%3A0%3Bbottom%3A0%3Bright%3A0%3Bleft%3A0%3B%7D%3C/style%3E%0A%20%20%20%20%0A%20%20%20%20%3Cmeta%20name%3D%22viewport%22%20content%3D%22width%3Ddevice-width%2C%0A%20%20%20%20%20%20%20%20initial-scale%3D1.0%2C%20maximum-scale%3D1.0%2C%20user-scalable%3Dno%22%20/%3E%0A%20%20%20%20%3Cstyle%3E%23map_b24071c935e54a6e81ac75975b79fbce%20%7B%0A%20%20%20%20%20%20%20%20position%3A%20relative%3B%0A%20%20%20%20%20%20%20%20width%3A%20100.0%25%3B%0A%20%20%20%20%20%20%20%20height%3A%20100.0%25%3B%0A%20%20%20%20%20%20%20%20left%3A%200.0%25%3B%0A%20%20%20%20%20%20%20%20top%3A%200.0%25%3B%0A%20%20%20%20%20%20%20%20%7D%0A%20%20%20%20%3C/style%3E%0A%3C/head%3E%0A%3Cbody%3E%20%20%20%20%0A%20%20%20%20%0A%20%20%20%20%3Cdiv%20class%3D%22folium-map%22%20id%3D%22map_b24071c935e54a6e81ac75975b79fbce%22%20%3E%3C/div%3E%0A%3C/body%3E%0A%3Cscript%3E%20%20%20%20%0A%20%20%20%20%0A%20%20%20%20%0A%20%20%20%20%20%20%20%20var%20bounds%20%3D%20null%3B%0A%20%20%20%20%0A%0A%20%20%20%20var%20map_b24071c935e54a6e81ac75975b79fbce%20%3D%20L.map%28%0A%20%20%20%20%20%20%20%20%27map_b24071c935e54a6e81ac75975b79fbce%27%2C%20%7B%0A%20%20%20%20%20%20%20%20center%3A%20%5B37.5447%2C%20126.9828%5D%2C%0A%20%20%20%20%20%20%20%20zoom%3A%2010%2C%0A%20%20%20%20%20%20%20%20maxBounds%3A%20bounds%2C%0A%20%20%20%20%20%20%20%20layers%3A%20%5B%5D%2C%0A%20%20%20%20%20%20%20%20worldCopyJump%3A%20false%2C%0A%20%20%20%20%20%20%20%20crs%3A%20L.CRS.EPSG3857%2C%0A%20%20%20%20%20%20%20%20zoomControl%3A%20true%2C%0A%20%20%20%20%20%20%20%20%7D%29%3B%0A%0A%0A%20%20%20%20%0A%20%20%20%20var%20tile_layer_7e2f45347eee45f0a7a1f8a75caf9419%20%3D%20L.tileLayer%28%0A%20%20%20%20%20%20%20%20%27https%3A//%7Bs%7D.tile.openstreetmap.org/%7Bz%7D/%7Bx%7D/%7By%7D.png%27%2C%0A%20%20%20%20%20%20%20%20%7B%0A%20%20%20%20%20%20%20%20%22attribution%22%3A%20null%2C%0A%20%20%20%20%20%20%20%20%22detectRetina%22%3A%20false%2C%0A%20%20%20%20%20%20%20%20%22maxNativeZoom%22%3A%2018%2C%0A%20%20%20%20%20%20%20%20%22maxZoom%22%3A%2018%2C%0A%20%20%20%20%20%20%20%20%22minZoom%22%3A%200%2C%0A%20%20%20%20%20%20%20%20%22noWrap%22%3A%20false%2C%0A%20%20%20%20%20%20%20%20%22opacity%22%3A%201%2C%0A%20%20%20%20%20%20%20%20%22subdomains%22%3A%20%22abc%22%2C%0A%20%20%20%20%20%20%20%20%22tms%22%3A%20false%0A%7D%29.addTo%28map_b24071c935e54a6e81ac75975b79fbce%29%3B%0A%3C/script%3E onload=\"this.contentDocument.open();this.contentDocument.write(    decodeURIComponent(this.getAttribute('data-html')));this.contentDocument.close();\" allowfullscreen webkitallowfullscreen mozallowfullscreen></iframe></div></div>"
      ],
      "text/plain": [
       "<folium.folium.Map at 0x7f10128d8a10>"
      ]
     },
     "execution_count": 16,
     "metadata": {
      "tags": []
     },
     "output_type": "execute_result"
    }
   ],
   "source": [
    "m = folium.Map(location = [37.5447, 126.9828], zoom_start=10)\n",
    "m"
   ]
  },
  {
   "cell_type": "code",
   "execution_count": 33,
   "metadata": {
    "colab": {
     "base_uri": "https://localhost:8080/",
     "height": 419
    },
    "id": "CzUIIJbhgtG4",
    "outputId": "9681fddf-3d13-42d1-bcce-08e3d12d5037"
   },
   "outputs": [
    {
     "data": {
      "text/html": [
       "<div>\n",
       "<style scoped>\n",
       "    .dataframe tbody tr th:only-of-type {\n",
       "        vertical-align: middle;\n",
       "    }\n",
       "\n",
       "    .dataframe tbody tr th {\n",
       "        vertical-align: top;\n",
       "    }\n",
       "\n",
       "    .dataframe thead th {\n",
       "        text-align: right;\n",
       "    }\n",
       "</style>\n",
       "<table border=\"1\" class=\"dataframe\">\n",
       "  <thead>\n",
       "    <tr style=\"text-align: right;\">\n",
       "      <th></th>\n",
       "      <th>name</th>\n",
       "      <th>latitude</th>\n",
       "      <th>longitude</th>\n",
       "    </tr>\n",
       "  </thead>\n",
       "  <tbody>\n",
       "    <tr>\n",
       "      <th>0</th>\n",
       "      <td>우성스포츠센터</td>\n",
       "      <td>37.492386</td>\n",
       "      <td>126.909832</td>\n",
       "    </tr>\n",
       "    <tr>\n",
       "      <th>1</th>\n",
       "      <td>프레곤빌딩</td>\n",
       "      <td>37.486127</td>\n",
       "      <td>126.904575</td>\n",
       "    </tr>\n",
       "    <tr>\n",
       "      <th>2</th>\n",
       "      <td>하림빌딩</td>\n",
       "      <td>37.494283</td>\n",
       "      <td>127.016646</td>\n",
       "    </tr>\n",
       "    <tr>\n",
       "      <th>3</th>\n",
       "      <td>크레신타워</td>\n",
       "      <td>37.518195</td>\n",
       "      <td>127.018478</td>\n",
       "    </tr>\n",
       "    <tr>\n",
       "      <th>4</th>\n",
       "      <td>한주실업빌딩</td>\n",
       "      <td>37.513501</td>\n",
       "      <td>126.943960</td>\n",
       "    </tr>\n",
       "    <tr>\n",
       "      <th>...</th>\n",
       "      <td>...</td>\n",
       "      <td>...</td>\n",
       "      <td>...</td>\n",
       "    </tr>\n",
       "    <tr>\n",
       "      <th>195</th>\n",
       "      <td>나들이공중화장실</td>\n",
       "      <td>37.571836</td>\n",
       "      <td>126.844277</td>\n",
       "    </tr>\n",
       "    <tr>\n",
       "      <th>196</th>\n",
       "      <td>수궁동주민센터</td>\n",
       "      <td>37.493950</td>\n",
       "      <td>126.831472</td>\n",
       "    </tr>\n",
       "    <tr>\n",
       "      <th>197</th>\n",
       "      <td>꽃동네공중화장실</td>\n",
       "      <td>37.570206</td>\n",
       "      <td>126.847085</td>\n",
       "    </tr>\n",
       "    <tr>\n",
       "      <th>198</th>\n",
       "      <td>온수근린공원화장실</td>\n",
       "      <td>37.660927</td>\n",
       "      <td>127.064176</td>\n",
       "    </tr>\n",
       "    <tr>\n",
       "      <th>199</th>\n",
       "      <td>실로암안과병원</td>\n",
       "      <td>37.546186</td>\n",
       "      <td>126.861944</td>\n",
       "    </tr>\n",
       "  </tbody>\n",
       "</table>\n",
       "<p>200 rows × 3 columns</p>\n",
       "</div>"
      ],
      "text/plain": [
       "          name   latitude   longitude\n",
       "0      우성스포츠센터  37.492386  126.909832\n",
       "1        프레곤빌딩  37.486127  126.904575\n",
       "2         하림빌딩  37.494283  127.016646\n",
       "3        크레신타워  37.518195  127.018478\n",
       "4       한주실업빌딩  37.513501  126.943960\n",
       "..         ...        ...         ...\n",
       "195   나들이공중화장실  37.571836  126.844277\n",
       "196    수궁동주민센터  37.493950  126.831472\n",
       "197   꽃동네공중화장실  37.570206  126.847085\n",
       "198  온수근린공원화장실  37.660927  127.064176\n",
       "199    실로암안과병원  37.546186  126.861944\n",
       "\n",
       "[200 rows x 3 columns]"
      ]
     },
     "execution_count": 33,
     "metadata": {
      "tags": []
     },
     "output_type": "execute_result"
    }
   ],
   "source": [
    "### 200개 만 얻기\n",
    "dat_200 = dat_tmp.iloc[0:200, :]\n",
    "dat_200"
   ]
  },
  {
   "cell_type": "code",
   "execution_count": 35,
   "metadata": {
    "colab": {
     "base_uri": "https://localhost:8080/"
    },
    "id": "stlPfTo5cAhv",
    "outputId": "204cc7e2-34fc-49ca-f27f-68d9a60cd9fd"
   },
   "outputs": [
    {
     "name": "stdout",
     "output_type": "stream",
     "text": [
      "200\n",
      "Index(['name', 'latitude', 'longitude'], dtype='object')\n"
     ]
    }
   ],
   "source": [
    "size = dat_200.name.count()\n",
    "print(size)   # 크기\n",
    "\n",
    "print(dat_200.columns)"
   ]
  },
  {
   "cell_type": "code",
   "execution_count": 36,
   "metadata": {
    "id": "cOvm6sqxclHJ"
   },
   "outputs": [],
   "source": [
    "import time"
   ]
  },
  {
   "cell_type": "code",
   "execution_count": 38,
   "metadata": {
    "colab": {
     "base_uri": "https://localhost:8080/"
    },
    "id": "sS2GQHDKbYua",
    "outputId": "ab3df12a-61dd-4b50-d4a5-26f44c175ec4"
   },
   "outputs": [
    {
     "name": "stdout",
     "output_type": "stream",
     "text": [
      "0.026201486587524414\n"
     ]
    }
   ],
   "source": [
    "# %%time\n",
    "now = time.time()\n",
    "\n",
    "m = folium.Map(location = [37.5447, 126.9828], zoom_start=13)\n",
    "\n",
    "for i in range(size):\n",
    "  folium.Marker(location= [ dat_200.loc[i, 'latitude']  , dat_200.loc[i, 'longitude'] ] ,\n",
    "                tooltip= dat_200.loc[i, 'name']  ,\n",
    "          ).add_to(m)\n",
    "\n",
    "work_time = time.time() - now\n",
    "m.save(\"seoul_data.html\")\n",
    "print( work_time )\n",
    "# m"
   ]
  },
  {
   "cell_type": "code",
   "execution_count": 37,
   "metadata": {
    "colab": {
     "base_uri": "https://localhost:8080/"
    },
    "id": "eYZk6HIvbnzL",
    "outputId": "1606b86b-7b23-41be-eb6d-80a8f84a9bbd"
   },
   "outputs": [
    {
     "name": "stdout",
     "output_type": "stream",
     "text": [
      "0.029722213745117188\n"
     ]
    }
   ],
   "source": [
    "# %%time\n",
    "now = time.time()\n",
    "\n",
    "m = folium.Map(location = [37.5447, 126.9828], zoom_start=13)\n",
    "\n",
    "for i in range(size):\n",
    "  folium.Marker(location= [ dat_200.loc[i, 'latitude']  , dat_200.loc[i, 'longitude'] ] ,\n",
    "                tooltip= dat_200.loc[i, 'name']  ,\n",
    "             icon=folium.DivIcon(html=f\"\"\"<div style=\"font-family: courier new; color: blue\">{dat_200.loc[i, 'name']}</div>\"\"\")\n",
    "          ).add_to(m)\n",
    "\n",
    "work_time = time.time() - now\n",
    "m.save(\"seoul_data_c.html\")\n",
    "print( work_time )\n",
    "# m"
   ]
  },
  {
   "cell_type": "code",
   "execution_count": null,
   "metadata": {
    "id": "NXt0ydykgULx"
   },
   "outputs": [],
   "source": []
  }
 ],
 "metadata": {
  "colab": {
   "name": "unit06_folium_seoul_data.ipynb",
   "provenance": []
  },
  "kernelspec": {
   "display_name": "Python 3",
   "language": "python",
   "name": "python3"
  },
  "language_info": {
   "codemirror_mode": {
    "name": "ipython",
    "version": 3
   },
   "file_extension": ".py",
   "mimetype": "text/x-python",
   "name": "python",
   "nbconvert_exporter": "python",
   "pygments_lexer": "ipython3",
   "version": "3.8.5"
  }
 },
 "nbformat": 4,
 "nbformat_minor": 1
}
