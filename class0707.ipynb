{
 "cells": [
  {
   "cell_type": "code",
   "execution_count": null,
   "metadata": {},
   "outputs": [],
   "source": [
    "### 데이터 연결\n",
    "* concat- 행으로 연결할 때, axis=0\n",
    "* concat- 행으로 연결할 때, axis=1\n",
    "* 두 개의 데이터 셋을 연결할 때, 공통된 열만 가져오겠다.\n",
    "    * join='inner'\n",
    "    \n",
    "### 데이터 확인\n",
    " * [].value_counts()\n",
    " * 유일한 값들만 확인하기 : unique()\n",
    " * 값을 정렬하기\n",
    "    *[].sort_values(by='열이름', ascending=False)\n",
    " * 값을 변경하기\n",
    "    *[].replace([_,_], \"rare\")\n",
    "    \n",
    " * 라벨 인코딩- map({})\n",
    "    * 문자를 숫자로 변환 : 컴퓨터, 모델이 이해할 수 있도록 변환\n",
    " * 결측치 처리\n",
    "    *[].fillna()\n",
    "    *수치형 결측치 처리 - 평균, 중앙값\n",
    "     *평균의 단점 - 특이값(이상치)가 왜곡을 일으킬 수 있다.\n",
    "        * 이사치 처리- 없애거나, 설명가능한 값으로 변경\n",
    "    *범주형 결측치 처리 - 최빈값으로 처리\n",
    "    \n",
    " * 데이터 형변환 함수\n",
    "    * [].astype()\n",
    "    * astype(str)/(int)\n",
    "\n",
    "### 어떤 데이터를 그룹으로 묶어서 통계\n",
    " * [].grouopby()\n",
    " * a = [].groupby([])\n",
    "\n",
    "### 내가 원하는 컬럼을 삭제\n",
    " * [].drop([_,_], axis=1) #axis=0 행을 삭제\n",
    "\n",
    "    \n",
    "### 통계 기본\n",
    " * 상관관계\n",
    "    * 사용되는 그래프 - 산점도(scatter, plot)\n",
    "    * seaborn - sns.lmplot().sns.pairplot\n",
    "\n",
    " *상관계수 값의 범위 1, -1\n",
    "    * 절대값이 1에 가까울 수록 강한 상관관계를 갖는다\n",
    "    * 절대값이 0에 가까울수록 상관관계가 없고 독립적이다.\n",
    "    \n",
    "### matplotlib\n",
    " * 제목을 달아줄 때\n",
    "    * snsn.boxplot()\n",
    "    * plt.title()\n",
    "    * x축 레이블: plt.xlabel, plt.ylbel\n",
    " * 멀티 그래프\n",
    "  * plt.subplot(----, label=\"\")\n",
    "  * plt.legend()\n",
    "\n",
    "### pandas : 데이터 처리\n",
    "\n",
    "### matrolib,seaborn,plotly,folium: 시각화\n",
    "\n",
    "### 수학함수, 통계, 임의의 난수 발생 : numpy\n",
    "\n",
    "### numpy as np\n",
    " *np.array[] : numpy 배열\n",
    " *np.numpy.normal() \n",
    " * 임의의 데이터를 생성하는데, 값들이 정규 분포를 띄게 만듦"
   ]
  },
  {
   "cell_type": "code",
   "execution_count": null,
   "metadata": {},
   "outputs": [],
   "source": [
    "### plotly 그래프를 사용하는 방법\n",
    " * cufflinks - [].iplot\n",
    " * plotly.express (seaborn 처럼 표현)"
   ]
  }
 ],
 "metadata": {
  "kernelspec": {
   "display_name": "Python 3",
   "language": "python",
   "name": "python3"
  },
  "language_info": {
   "codemirror_mode": {
    "name": "ipython",
    "version": 3
   },
   "file_extension": ".py",
   "mimetype": "text/x-python",
   "name": "python",
   "nbconvert_exporter": "python",
   "pygments_lexer": "ipython3",
   "version": "3.8.5"
  }
 },
 "nbformat": 4,
 "nbformat_minor": 4
}
