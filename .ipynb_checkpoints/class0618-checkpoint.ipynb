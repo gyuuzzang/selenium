{
 "cells": [
  {
   "cell_type": "code",
   "execution_count": 3,
   "metadata": {},
   "outputs": [],
   "source": [
    "from selenium import webdriver\n",
    "driver = webdriver.Chrome('chromedriver_90')"
   ]
  },
  {
   "cell_type": "code",
   "execution_count": 8,
   "metadata": {},
   "outputs": [],
   "source": [
    "# url :https://ldjwj.github.io/00_SBA01_BigData/05_HTML/idx_lec_list\n",
    "# 통계기본(xpath) :/html/body/div/div/div/div/div[9]/div[4]/a\n",
    "# [selenium 객체].click() 이용할 기능: 다른 페이지로 이동"
   ]
  },
  {
   "cell_type": "code",
   "execution_count": 25,
   "metadata": {},
   "outputs": [],
   "source": [
    "url = 'https://ldjwj.github.io/00_SBA01_BigData/05_HTML/idx_lec_list'\n",
    "driver.get(url)"
   ]
  },
  {
   "cell_type": "code",
   "execution_count": 10,
   "metadata": {},
   "outputs": [],
   "source": [
    "# 내가 원하는 요소를 가지고 와서, 클랙을 해보렴"
   ]
  },
  {
   "cell_type": "code",
   "execution_count": 11,
   "metadata": {},
   "outputs": [
    {
     "data": {
      "text/plain": [
       "<selenium.webdriver.remote.webelement.WebElement (session=\"023a98e9af104c5ba74b65dafd930923\", element=\"18e314c5-cf68-4216-89bb-fdb113c75ba1\")>"
      ]
     },
     "execution_count": 11,
     "metadata": {},
     "output_type": "execute_result"
    }
   ],
   "source": [
    "sel_link1=driver.find_element_by_xpath('/html/body/div/div/div/div/div[9]/div[4]/a')\n",
    "sel_link1"
   ]
  },
  {
   "cell_type": "code",
   "execution_count": 12,
   "metadata": {},
   "outputs": [
    {
     "data": {
      "text/plain": [
       "'Link'"
      ]
     },
     "execution_count": 12,
     "metadata": {},
     "output_type": "execute_result"
    }
   ],
   "source": [
    "sel_link1.text #정보이기에 ( )가 없음"
   ]
  },
  {
   "cell_type": "code",
   "execution_count": 13,
   "metadata": {},
   "outputs": [],
   "source": [
    "sel_link1.click() #행동이기에 ()가 있음"
   ]
  },
  {
   "cell_type": "code",
   "execution_count": 27,
   "metadata": {},
   "outputs": [],
   "source": [
    "url = 'https://ldjwj.github.io/00_SBA01_BigData/05_HTML/idx_lec_list'\n",
    "driver.get(url)"
   ]
  },
  {
   "cell_type": "code",
   "execution_count": 28,
   "metadata": {},
   "outputs": [
    {
     "data": {
      "text/plain": [
       "<selenium.webdriver.remote.webelement.WebElement (session=\"023a98e9af104c5ba74b65dafd930923\", element=\"1f98f827-badd-457b-8785-eb38d70734b2\")>"
      ]
     },
     "execution_count": 28,
     "metadata": {},
     "output_type": "execute_result"
    }
   ],
   "source": [
    "sel_link2=driver.find_element_by_xpath('/html/body/div/div/div/div/div[8]/div[4]/a')\n",
    "sel_link2"
   ]
  },
  {
   "cell_type": "code",
   "execution_count": 29,
   "metadata": {},
   "outputs": [],
   "source": [
    "sel_link2.click()"
   ]
  },
  {
   "cell_type": "code",
   "execution_count": 30,
   "metadata": {},
   "outputs": [],
   "source": [
    "url = 'https://pythonstart.github.io/web/'\n",
    "driver.get(url)"
   ]
  },
  {
   "cell_type": "code",
   "execution_count": 31,
   "metadata": {},
   "outputs": [
    {
     "name": "stdout",
     "output_type": "stream",
     "text": [
      "10. 랭킹 정보 가져오기(웹 크롤링)\n",
      "a\n"
     ]
    }
   ],
   "source": [
    "sel_id=driver.find_element_by_id(\"rank\")\n",
    "print(sel_id.text)\n",
    "print(sel_id.tag_name)"
   ]
  },
  {
   "cell_type": "markdown",
   "metadata": {},
   "source": [
    "### 태그 이름으로 가져오기`"
   ]
  },
  {
   "cell_type": "code",
   "execution_count": 34,
   "metadata": {
    "scrolled": false
   },
   "outputs": [
    {
     "name": "stdout",
     "output_type": "stream",
     "text": [
      "a 01. 제목 가져오기(title)\n",
      "a 02. 텍스트 가져오기(p)\n",
      "a 03. 링크 가져오기(a)\n",
      "a 04. 이미지 정보 가져오기(img)\n",
      "a 05. 리스트 정보 가져오기(ul,ol)\n",
      "a 06. id를 활용한 정보 획득\n",
      "a 07. class를 활용한 정보 획득\n",
      "a 08. 하나의 이미지 다운로드\n",
      "a 09. 여러개의 이미지 다운로드\n",
      "a 10. 랭킹 정보 가져오기(웹 크롤링)\n"
     ]
    }
   ],
   "source": [
    "sel_a_all=driver.find_elements_by_tag_name('a')\n",
    "\n",
    "for one in sel_a_all:\n",
    "    print(one.tag_name, one.text)"
   ]
  },
  {
   "cell_type": "markdown",
   "metadata": {},
   "source": [
    "### name 속성으로 가져오기"
   ]
  },
  {
   "cell_type": "code",
   "execution_count": 36,
   "metadata": {},
   "outputs": [
    {
     "name": "stdout",
     "output_type": "stream",
     "text": [
      "a 01. 제목 가져오기(title)\n",
      "a 03. 링크 가져오기(a)\n"
     ]
    }
   ],
   "source": [
    "sel_names=driver.find_elements_by_name(\"link_get\")\n",
    "\n",
    "for one in sel_names:\n",
    "    print(one.tag_name, one.text)"
   ]
  },
  {
   "cell_type": "markdown",
   "metadata": {},
   "source": [
    "### 링크내용으로 가져오기"
   ]
  },
  {
   "cell_type": "code",
   "execution_count": 37,
   "metadata": {},
   "outputs": [
    {
     "name": "stdout",
     "output_type": "stream",
     "text": [
      "a 01. 제목 가져오기(title)\n"
     ]
    }
   ],
   "source": [
    "sel_link=driver.find_element_by_link_text(\"01. 제목 가져오기(title)\")\n",
    "print(sel_link.tag_name, sel_link.text)"
   ]
  },
  {
   "cell_type": "markdown",
   "metadata": {},
   "source": [
    "### selector를 이용한 접근"
   ]
  },
  {
   "cell_type": "code",
   "execution_count": 38,
   "metadata": {},
   "outputs": [
    {
     "name": "stdout",
     "output_type": "stream",
     "text": [
      "a 01. 제목 가져오기(title)\n",
      "a 02. 텍스트 가져오기(p)\n",
      "a 03. 링크 가져오기(a)\n",
      "a 04. 이미지 정보 가져오기(img)\n",
      "a 05. 리스트 정보 가져오기(ul,ol)\n",
      "a 06. id를 활용한 정보 획득\n",
      "a 07. class를 활용한 정보 획득\n",
      "a 08. 하나의 이미지 다운로드\n",
      "a 09. 여러개의 이미지 다운로드\n",
      "a 10. 랭킹 정보 가져오기(웹 크롤링)\n"
     ]
    }
   ],
   "source": [
    "sel_css=driver.find_elements_by_css_selector(\"body ul a\")\n",
    "\n",
    "for one in sel_css:\n",
    "    print(one.tag_name, one.text)"
   ]
  },
  {
   "cell_type": "markdown",
   "metadata": {},
   "source": [
    "### 링크 내용 일부로 가져오기"
   ]
  },
  {
   "cell_type": "code",
   "execution_count": 39,
   "metadata": {},
   "outputs": [
    {
     "name": "stdout",
     "output_type": "stream",
     "text": [
      "a 01. 제목 가져오기(title)\n",
      "a 02. 텍스트 가져오기(p)\n",
      "a 03. 링크 가져오기(a)\n",
      "a 04. 이미지 정보 가져오기(img)\n",
      "a 05. 리스트 정보 가져오기(ul,ol)\n",
      "a 10. 랭킹 정보 가져오기(웹 크롤링)\n"
     ]
    }
   ],
   "source": [
    "sel_par=driver.find_elements_by_partial_link_text(\"가져오기\")\n",
    "\n",
    "for one in sel_par:\n",
    "    print(one.tag_name, one.text)"
   ]
  },
  {
   "cell_type": "markdown",
   "metadata": {},
   "source": [
    "### 5-3 실습`"
   ]
  },
  {
   "cell_type": "code",
   "execution_count": 99,
   "metadata": {},
   "outputs": [],
   "source": [
    "url = \"https://ldjwj.github.io/00_SBA01_BigData/05_HTML/idx_lec_list \"\n",
    "driver.get(url)"
   ]
  },
  {
   "cell_type": "code",
   "execution_count": 100,
   "metadata": {},
   "outputs": [
    {
     "name": "stdout",
     "output_type": "stream",
     "text": [
      "\n",
      "R 기본 및 R 기본 활용(전수업 내용)\n",
      "STAT_BASIC_00\n",
      "R 기본 전체(전 수업 링크)\n",
      "Link\n",
      "통계기본\n",
      "STAT_BASIC_01\n",
      "통계기본이해하기(1)\n",
      "Link\n",
      "통계기본\n",
      "STAT_BASIC_02\n",
      "가설검정이해(1)\n",
      "Link\n",
      "통계기본\n",
      "STAT_LAB_01\n",
      "통계기본이해_실습(1)-통계가설검정\n",
      "Link\n",
      "통계기본\n",
      "STAT_LAB_01\n",
      "통계기본이해_실습(1)-통계가설검정\n",
      "Link\n",
      "통계기본\n",
      "STAT_BASIC_03\n",
      "회귀분석이해(1)\n",
      "Link\n",
      "통계기본\n",
      "STAT_LAB_02\n",
      "첫번째 모델 만들기\n",
      "Link\n",
      "통계기본\n",
      "STAT_LAB_03\n",
      "회귀 모델 실습(1)-mtcars\n",
      "Link\n",
      "통계기본\n",
      "STAT_LAB_04\n",
      "회귀 모델 실습(2)-Boston 집값 예측\n",
      "Link\n",
      "통계기본\n",
      "STAT_LAB_05\n",
      "회귀 모델 실습(3) - 캐글 데이터-집값 예측\n",
      "Link\n",
      "통계기본\n",
      "STAT_LAB_06\n",
      "로지스틱 회귀 모델 실습(1) - 인디언 암 예측\n",
      "Link\n",
      "통계기본\n",
      "STAT_BASIC_04\n",
      "의사결정트리 기본 이해(1)\n",
      "Link\n",
      "통계기본\n",
      "STAT_LAB_07\n",
      "의사결정트리 실습(1)\n",
      "Link\n",
      "통계기본\n",
      "STAT_LAB_08\n",
      "의사결정트리 실습(2)\n",
      "Link\n",
      "통계기본\n",
      "STAT_LAB_EDA_01\n",
      "데이터 탐색 - Boston 집값\n",
      "Link\n",
      "R_LevelUp\n",
      "R_TM_01\n",
      "텍스트 마이닝 시작하기\n",
      "Link\n",
      "R_LevelUp\n",
      "R_TM_LAB_01\n",
      "KoNLP를 패키지를 활용한 텍스트 분석(1)\n",
      "Link\n",
      "R_LevelUp\n",
      "R_TM_LAB_02\n",
      "텍스트 감정 분석(1)\n",
      "Link\n",
      "R_LevelUp\n",
      "R_TM_LAB_03\n",
      "TFIDF 이해하기(1)\n",
      "Link\n",
      "R_LevelUp\n",
      "R_MYSQL_LAB_01\n",
      "R과 MySQL 연동 환경 만들기\n",
      "Link\n",
      "R_LevelUp\n",
      "R_MYSQL_LAB_02\n",
      "R과 MySQL 연동 실습하기\n",
      "Link\n",
      "R_LevelUp\n",
      "R_DATAVIS_LAB_01\n",
      "데이터 시각화 기본(1)\n",
      "Link\n",
      "R_LevelUp\n",
      "R_DATAVIS_LAB_02\n",
      "데이터 시각화 기본(2)\n",
      "Link\n",
      "R_LevelUp\n",
      "R_DATAVIS_LAB_03\n",
      "데이터 시각화 기본(3)\n",
      "Link\n",
      "R_LevelUp\n",
      "R_DATAVIS_LAB_04\n",
      "데이터 시각화 기본(4)\n",
      "Link\n",
      "R_LevelUp\n",
      "R_DATAVIS_LAB_05\n",
      "데이터 시각화 활용(5)\n",
      "Link\n",
      "R_LevelUp\n",
      "R_DATAVIS_LAB_06\n",
      "데이터 시각화 참고자료(1)\n",
      "Link\n",
      "R_LevelUp\n",
      "R_DATAVIS_LAB_07\n",
      "데이터 시각화 참고자료(2)\n",
      "Link\n"
     ]
    }
   ],
   "source": [
    "allcontents=driver.find_elements_by_css_selector(\"div.table div.row\")\n",
    "\n",
    "for one in allcontents:\n",
    "    print(one.text)"
   ]
  },
  {
   "cell_type": "code",
   "execution_count": 101,
   "metadata": {},
   "outputs": [
    {
     "name": "stdout",
     "output_type": "stream",
     "text": [
      "\n",
      "R 기본 및 R 기본 활용(전수업 내용)\n",
      "STAT_BASIC_00\n",
      "R 기본 전체(전 수업 링크)\n",
      "Link\n",
      "통계기본\n",
      "STAT_BASIC_01\n",
      "통계기본이해하기(1)\n",
      "Link\n",
      "통계기본\n",
      "STAT_BASIC_02\n",
      "가설검정이해(1)\n",
      "Link\n",
      "통계기본\n",
      "STAT_LAB_01\n",
      "통계기본이해_실습(1)-통계가설검정\n",
      "Link\n",
      "통계기본\n",
      "STAT_LAB_01\n",
      "통계기본이해_실습(1)-통계가설검정\n",
      "Link\n",
      "통계기본\n",
      "STAT_BASIC_03\n",
      "회귀분석이해(1)\n",
      "Link\n",
      "통계기본\n",
      "STAT_LAB_02\n",
      "첫번째 모델 만들기\n",
      "Link\n",
      "통계기본\n",
      "STAT_LAB_03\n",
      "회귀 모델 실습(1)-mtcars\n",
      "Link\n",
      "통계기본\n",
      "STAT_LAB_04\n",
      "회귀 모델 실습(2)-Boston 집값 예측\n",
      "Link\n",
      "통계기본\n",
      "STAT_LAB_05\n",
      "회귀 모델 실습(3) - 캐글 데이터-집값 예측\n",
      "Link\n",
      "통계기본\n",
      "STAT_LAB_06\n",
      "로지스틱 회귀 모델 실습(1) - 인디언 암 예측\n",
      "Link\n",
      "통계기본\n",
      "STAT_BASIC_04\n",
      "의사결정트리 기본 이해(1)\n",
      "Link\n",
      "통계기본\n",
      "STAT_LAB_07\n",
      "의사결정트리 실습(1)\n",
      "Link\n",
      "통계기본\n",
      "STAT_LAB_08\n",
      "의사결정트리 실습(2)\n",
      "Link\n",
      "통계기본\n",
      "STAT_LAB_EDA_01\n",
      "데이터 탐색 - Boston 집값\n",
      "Link\n",
      "R_LevelUp\n",
      "R_TM_01\n",
      "텍스트 마이닝 시작하기\n",
      "Link\n",
      "R_LevelUp\n",
      "R_TM_LAB_01\n",
      "KoNLP를 패키지를 활용한 텍스트 분석(1)\n",
      "Link\n",
      "R_LevelUp\n",
      "R_TM_LAB_02\n",
      "텍스트 감정 분석(1)\n",
      "Link\n",
      "R_LevelUp\n",
      "R_TM_LAB_03\n",
      "TFIDF 이해하기(1)\n",
      "Link\n",
      "R_LevelUp\n",
      "R_MYSQL_LAB_01\n",
      "R과 MySQL 연동 환경 만들기\n",
      "Link\n",
      "R_LevelUp\n",
      "R_MYSQL_LAB_02\n",
      "R과 MySQL 연동 실습하기\n",
      "Link\n",
      "R_LevelUp\n",
      "R_DATAVIS_LAB_01\n",
      "데이터 시각화 기본(1)\n",
      "Link\n",
      "R_LevelUp\n",
      "R_DATAVIS_LAB_02\n",
      "데이터 시각화 기본(2)\n",
      "Link\n",
      "R_LevelUp\n",
      "R_DATAVIS_LAB_03\n",
      "데이터 시각화 기본(3)\n",
      "Link\n",
      "R_LevelUp\n",
      "R_DATAVIS_LAB_04\n",
      "데이터 시각화 기본(4)\n",
      "Link\n",
      "R_LevelUp\n",
      "R_DATAVIS_LAB_05\n",
      "데이터 시각화 활용(5)\n",
      "Link\n",
      "R_LevelUp\n",
      "R_DATAVIS_LAB_06\n",
      "데이터 시각화 참고자료(1)\n",
      "Link\n",
      "R_LevelUp\n",
      "R_DATAVIS_LAB_07\n",
      "데이터 시각화 참고자료(2)\n",
      "Link\n"
     ]
    }
   ],
   "source": [
    "allcontents=driver.find_elements_by_css_selector(\"div.row\")\n",
    "\n",
    "for one in allcontents:\n",
    "    print(one.text)"
   ]
  },
  {
   "cell_type": "code",
   "execution_count": 102,
   "metadata": {},
   "outputs": [
    {
     "name": "stdout",
     "output_type": "stream",
     "text": [
      "R 기본 전체(전 수업 링크)\n",
      "통계기본이해하기(1)\n",
      "가설검정이해(1)\n",
      "통계기본이해_실습(1)-통계가설검정\n",
      "통계기본이해_실습(1)-통계가설검정\n",
      "회귀분석이해(1)\n",
      "첫번째 모델 만들기\n",
      "회귀 모델 실습(1)-mtcars\n",
      "회귀 모델 실습(2)-Boston 집값 예측\n",
      "회귀 모델 실습(3) - 캐글 데이터-집값 예측\n",
      "로지스틱 회귀 모델 실습(1) - 인디언 암 예측\n",
      "의사결정트리 기본 이해(1)\n",
      "의사결정트리 실습(1)\n",
      "의사결정트리 실습(2)\n",
      "데이터 탐색 - Boston 집값\n",
      "텍스트 마이닝 시작하기\n",
      "KoNLP를 패키지를 활용한 텍스트 분석(1)\n",
      "텍스트 감정 분석(1)\n",
      "TFIDF 이해하기(1)\n",
      "R과 MySQL 연동 환경 만들기\n",
      "R과 MySQL 연동 실습하기\n",
      "데이터 시각화 기본(1)\n",
      "데이터 시각화 기본(2)\n",
      "데이터 시각화 기본(3)\n",
      "데이터 시각화 기본(4)\n",
      "데이터 시각화 활용(5)\n",
      "데이터 시각화 참고자료(1)\n",
      "데이터 시각화 참고자료(2)\n"
     ]
    }
   ],
   "source": [
    "contents=driver.find_elements_by_css_selector(\"div[data-title='Content']\")\n",
    "\n",
    "for one in contents:\n",
    "    print(one.text)"
   ]
  },
  {
   "cell_type": "code",
   "execution_count": 104,
   "metadata": {},
   "outputs": [
    {
     "name": "stdout",
     "output_type": "stream",
     "text": [
      "https://github.com/LDJWJ/RBasic/tree/master/01_RClass\n",
      "https://ldjwj.github.io/00_SBA01_BigData/05_HTML/01_RClass/Stat01_01_Basic_Summary_v12.pdf\n",
      "https://ldjwj.github.io/00_SBA01_BigData/05_HTML/01_RClass/Stat01_02_Hypo_v10.pdf\n",
      "https://ldjwj.github.io/00_SBA01_BigData/05_HTML/01_RClass/stat01_Lab02_ttest_v11.html\n",
      "https://ldjwj.github.io/00_SBA01_BigData/05_HTML/01_RClass/stat01_Lab02_v10.html\n",
      "https://ldjwj.github.io/00_SBA01_BigData/05_HTML/01_RClass/Stat02_Regression_v10.pdf\n",
      "https://ldjwj.github.io/00_SBA01_BigData/05_HTML/01_RClass/stat02_Lab01_lm_firstmodel.html\n",
      "https://ldjwj.github.io/00_SBA01_BigData/05_HTML/01_RClass/stat02_Lab02_lm_mtcars.html\n",
      "https://ldjwj.github.io/00_SBA01_BigData/05_HTML/01_RClass/stat02_Lab03_lm_housing.html\n",
      "https://ldjwj.github.io/00_SBA01_BigData/05_HTML/01_RClass/stat02_Lab04_lm_house_adv.html\n",
      "https://ldjwj.github.io/00_SBA01_BigData/05_HTML/01_RClass/stat03_Lab05_logit_indian.html\n",
      "https://ldjwj.github.io/00_SBA01_BigData/05_HTML/01_RClass/stat04_decisiontree_v11.pdf\n",
      "https://ldjwj.github.io/00_SBA01_BigData/05_HTML/01_RClass/stat04_Lab01_tree_titanic.html\n",
      "https://ldjwj.github.io/00_SBA01_BigData/05_HTML/01_RClass/stat04_Lab02_tree_titanic.html\n",
      "https://ldjwj.github.io/00_SBA01_BigData/05_HTML/01_RClass/stat02_Lab03_eda_housing.html\n",
      "https://ldjwj.github.io/00_SBA01_BigData/05_HTML/01_RClass/R_LV_Up08_TextMining.html\n",
      "https://ldjwj.github.io/00_SBA01_BigData/05_HTML/01_RClass/TM_Lab01_KoNLP.html\n",
      "https://ldjwj.github.io/00_SBA01_BigData/05_HTML/01_RClass/TM_LAB06_sentiment.html\n",
      "https://ldjwj.github.io/00_SBA01_BigData/05_HTML/01_RClass/TM_Lab02_tfidf01.html\n",
      "https://ldjwj.github.io/00_SBA01_BigData/05_HTML/01_RClass/R_MYSQL_01_1909.pdf\n",
      "https://ldjwj.github.io/00_SBA01_BigData/05_HTML/01_RClass/R_LV_Up_MySQL01.html\n",
      "https://ldjwj.github.io/00_SBA01_BigData/05_HTML/01_RClass/B01_dataVis0418.pdf\n",
      "https://ldjwj.github.io/00_SBA01_BigData/05_HTML/01_RClass/B01_plot_basic.pdf\n",
      "https://ldjwj.github.io/00_SBA01_BigData/05_HTML/01_RClass/B02_ggplot2_jitter.pdf\n",
      "https://ldjwj.github.io/00_SBA01_BigData/05_HTML/01_RClass/B03_ggplot2_custom.pdf\n",
      "https://ldjwj.github.io/00_SBA01_BigData/05_HTML/01_RClass/DataVis_R_Lab07_networkAna01.r\n",
      "https://ldjwj.github.io/00_SBA01_BigData/05_HTML/01_RClass/G01_Graph_0601.r\n",
      "https://ldjwj.github.io/00_SBA01_BigData/05_HTML/01_RClass/G02_Graph_0601.r\n"
     ]
    }
   ],
   "source": [
    "links=driver.find_elements_by_css_selector(\"div[data-title='Link'] a\")\n",
    "\n",
    "for one in links:\n",
    "    print(one.get_attribute('href'))\n",
    "    "
   ]
  },
  {
   "cell_type": "code",
   "execution_count": 60,
   "metadata": {},
   "outputs": [],
   "source": [
    "### BeautifulSoup과 Selenium 같이 쓰기"
   ]
  },
  {
   "cell_type": "code",
   "execution_count": 66,
   "metadata": {},
   "outputs": [],
   "source": [
    "import time\n",
    "import lxml\n",
    "url = 'https://pythonstart.github.io/web/'\n",
    "start = time.time()\n",
    "driver = webdriver.Chrome('./chromedriver_90')\n",
    "driver.get(url)"
   ]
  },
  {
   "cell_type": "code",
   "execution_count": 67,
   "metadata": {},
   "outputs": [],
   "source": [
    "from bs4 import BeautifulSoup"
   ]
  },
  {
   "cell_type": "code",
   "execution_count": 89,
   "metadata": {},
   "outputs": [
    {
     "data": {
      "text/plain": [
       "<title>나의 웹 페이지</title>"
      ]
     },
     "execution_count": 89,
     "metadata": {},
     "output_type": "execute_result"
    }
   ],
   "source": [
    "page = driver.page_source\n",
    "soup = BeautifulSoup(page,'lxml')\n",
    "soup.title"
   ]
  },
  {
   "cell_type": "code",
   "execution_count": 90,
   "metadata": {},
   "outputs": [
    {
     "name": "stdout",
     "output_type": "stream",
     "text": [
      " 01. 제목 가져오기(title) \n",
      " 02. 텍스트 가져오기(p) \n",
      " 03. 링크 가져오기(a) \n",
      " 04. 이미지 정보 가져오기(img) \n",
      " 05. 리스트 정보 가져오기(ul,ol) \n",
      " 06. id를 활용한 정보 획득 \n",
      " 07. class를 활용한 정보 획득 \n",
      " 08. 하나의 이미지 다운로드 \n",
      " 09. 여러개의 이미지 다운로드 \n",
      " 10. 랭킹 정보 가져오기(웹 크롤링) \n"
     ]
    }
   ],
   "source": [
    "co = soup.find_all(\"a\")\n",
    "\n",
    "for i in co:\n",
    "    print(i.text)"
   ]
  },
  {
   "cell_type": "code",
   "execution_count": 96,
   "metadata": {},
   "outputs": [
    {
     "name": "stdout",
     "output_type": "stream",
     "text": [
      " 01. 제목 가져오기(title) \n",
      "https://pythonstart.github.io/web/01.html\n",
      "\n",
      " 02. 텍스트 가져오기(p) \n",
      "https://pythonstart.github.io/web/02.html\n",
      "\n",
      " 03. 링크 가져오기(a) \n",
      "https://pythonstart.github.io/web/03.html\n",
      "\n",
      " 04. 이미지 정보 가져오기(img) \n",
      "https://pythonstart.github.io/web/04.html\n",
      "\n",
      " 05. 리스트 정보 가져오기(ul,ol) \n",
      "https://pythonstart.github.io/web/05.html\n",
      "\n",
      " 06. id를 활용한 정보 획득 \n",
      "https://pythonstart.github.io/web/06.html\n",
      "\n",
      " 07. class를 활용한 정보 획득 \n",
      "https://pythonstart.github.io/web/07.html\n",
      "\n",
      " 08. 하나의 이미지 다운로드 \n",
      "https://pythonstart.github.io/web/08.html\n",
      "\n",
      " 09. 여러개의 이미지 다운로드 \n",
      "https://pythonstart.github.io/web/09.html\n",
      "\n",
      " 10. 랭킹 정보 가져오기(웹 크롤링) \n",
      "https://pythonstart.github.io/web/10.html\n",
      "\n"
     ]
    }
   ],
   "source": [
    "all_link = soup.findAll('a')\n",
    "for one in all_link:\n",
    "    print(one.text)\n",
    "    if one.get('href')[0] == '.':\n",
    "        print(url+one.get('href')[1:])\n",
    "    else:\n",
    "        print(one.get('href'))\n",
    "    print()"
   ]
  },
  {
   "cell_type": "code",
   "execution_count": 91,
   "metadata": {},
   "outputs": [
    {
     "name": "stdout",
     "output_type": "stream",
     "text": [
      "01. 제목 가져오기(title)\n",
      "02. 텍스트 가져오기(p)\n",
      "03. 링크 가져오기(a)\n",
      "04. 이미지 정보 가져오기(img)\n",
      "05. 리스트 정보 가져오기(ul,ol)\n",
      "06. id를 활용한 정보 획득\n",
      "07. class를 활용한 정보 획득\n",
      "08. 하나의 이미지 다운로드\n",
      "09. 여러개의 이미지 다운로드\n",
      "10. 랭킹 정보 가져오기(웹 크롤링)\n"
     ]
    }
   ],
   "source": [
    "contents=driver.find_elements_by_css_selector(\"body ul a\")\n",
    "\n",
    "for i in contents:\n",
    "    print(i.text)"
   ]
  },
  {
   "cell_type": "code",
   "execution_count": 92,
   "metadata": {},
   "outputs": [
    {
     "name": "stdout",
     "output_type": "stream",
     "text": [
      "01. 제목 가져오기(title)\n",
      "https://pythonstart.github.io/web/01.html\n",
      "\n",
      "02. 텍스트 가져오기(p)\n",
      "https://pythonstart.github.io/web/02.html\n",
      "\n",
      "03. 링크 가져오기(a)\n",
      "https://pythonstart.github.io/web/03.html\n",
      "\n",
      "04. 이미지 정보 가져오기(img)\n",
      "https://pythonstart.github.io/web/04.html\n",
      "\n",
      "05. 리스트 정보 가져오기(ul,ol)\n",
      "https://pythonstart.github.io/web/05.html\n",
      "\n",
      "06. id를 활용한 정보 획득\n",
      "https://pythonstart.github.io/web/06.html\n",
      "\n",
      "07. class를 활용한 정보 획득\n",
      "https://pythonstart.github.io/web/07.html\n",
      "\n",
      "08. 하나의 이미지 다운로드\n",
      "https://pythonstart.github.io/web/08.html\n",
      "\n",
      "09. 여러개의 이미지 다운로드\n",
      "https://pythonstart.github.io/web/09.html\n",
      "\n",
      "10. 랭킹 정보 가져오기(웹 크롤링)\n",
      "https://pythonstart.github.io/web/10.html\n",
      "\n"
     ]
    }
   ],
   "source": [
    "sel_a = driver.find_elements_by_tag_name('a')\n",
    "for one in sel_a:\n",
    "    print(one.text)\n",
    "    print(one.get_attribute('href'))\n",
    "    print()"
   ]
  },
  {
   "cell_type": "code",
   "execution_count": 84,
   "metadata": {},
   "outputs": [],
   "source": [
    "page=driver.find_element_by_xpath(\"/html/body/ul/a[2]\")\n",
    "page.click()"
   ]
  },
  {
   "cell_type": "code",
   "execution_count": 88,
   "metadata": {},
   "outputs": [
    {
     "ename": "NameError",
     "evalue": "name 'contents2' is not defined",
     "output_type": "error",
     "traceback": [
      "\u001b[1;31m---------------------------------------------------------------------------\u001b[0m",
      "\u001b[1;31mNameError\u001b[0m                                 Traceback (most recent call last)",
      "\u001b[1;32m<ipython-input-88-c9f387ade8b8>\u001b[0m in \u001b[0;36m<module>\u001b[1;34m\u001b[0m\n\u001b[0;32m      2\u001b[0m \u001b[1;33m\u001b[0m\u001b[0m\n\u001b[0;32m      3\u001b[0m \u001b[1;31m#content2=driver.find_elements_by_tag_name(\"p\")\u001b[0m\u001b[1;33m\u001b[0m\u001b[1;33m\u001b[0m\u001b[1;33m\u001b[0m\u001b[0m\n\u001b[1;32m----> 4\u001b[1;33m \u001b[1;32mfor\u001b[0m \u001b[0mi\u001b[0m \u001b[1;32min\u001b[0m \u001b[0mcontents2\u001b[0m\u001b[1;33m:\u001b[0m\u001b[1;33m\u001b[0m\u001b[1;33m\u001b[0m\u001b[0m\n\u001b[0m\u001b[0;32m      5\u001b[0m     \u001b[0mprint\u001b[0m\u001b[1;33m(\u001b[0m\u001b[0mi\u001b[0m\u001b[1;33m.\u001b[0m\u001b[0mtext\u001b[0m\u001b[1;33m)\u001b[0m\u001b[1;33m\u001b[0m\u001b[1;33m\u001b[0m\u001b[0m\n",
      "\u001b[1;31mNameError\u001b[0m: name 'contents2' is not defined"
     ]
    }
   ],
   "source": [
    "content2=driver.find_elements_by_css_selector(\"body p\")\n",
    "\n",
    "#content2=driver.find_elements_by_tag_name(\"p\")\n",
    "for i in contents2:\n",
    "    print(i.text)"
   ]
  }
 ],
 "metadata": {
  "kernelspec": {
   "display_name": "Python 3",
   "language": "python",
   "name": "python3"
  },
  "language_info": {
   "codemirror_mode": {
    "name": "ipython",
    "version": 3
   },
   "file_extension": ".py",
   "mimetype": "text/x-python",
   "name": "python",
   "nbconvert_exporter": "python",
   "pygments_lexer": "ipython3",
   "version": "3.8.5"
  }
 },
 "nbformat": 4,
 "nbformat_minor": 4
}
