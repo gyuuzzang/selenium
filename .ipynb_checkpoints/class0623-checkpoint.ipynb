{
 "cells": [
  {
   "cell_type": "code",
   "execution_count": null,
   "metadata": {},
   "outputs": [],
   "source": [
    "### utl로부터 html정보를 가져오기\n",
    "* url\n",
    "* urlib.request.urlopen: 함수\n",
    "    * requests : (최신 버전)\n",
    "* BeutifulSoup\n",
    "    * html.parser, lxml(c언어, 속도 빠름), html5lib\n",
    "    \n",
    "    * 정보 하나 가져오기: [].find(\"태그명\") -문자열\n",
    "    * 여러개 가져오기: [].find_all(\"태그명\", class_ ) -리스트\n",
    "* Movie Review\n",
    "    * [].children : 자기 바로 아래 단계를 리스트로 만들어준다.\n",
    "* 문자열 처리\n",
    "    * strip() : 공백제거, 줄바꿈의 처리\n",
    "    * for,,,:\n",
    "    *   continue => 어떤 반복 등의 처리할 때, 아래를 실행하지 않고\n",
    "                     반복등의 분기로 돌아간다.\n",
    "    *   break\n",
    "* 리스트 처리\n",
    "    * remove (요소의 값)\n",
    "    * zip 함수\n",
    "* 텍스트 시각화\n",
    "    * 워드 클라우드 : 빈도 또는 값\n",
    "* 파일 만들기\n",
    "    * [].to_csv, [].to_excel\n",
    "    * index의 argument의 역할:\n",
    "\n",
    "* selenium\n",
    "    * driver.finde_elemnet_by_xpath\n",
    "    * 정보를 가져올 수 있는 방법\n",
    "        * css, xpath, class, id, link_text, partial_text\n",
    "        \n",
    "    * 검색에 글 적어보기: send_keys()\n",
    "        * 검색에 글 적어보기: send_keys()\n",
    "            * 검색에 글 적어보기: send_keys()\n",
    "                \n",
    "    * 속성 가져오기: [].get_attribute(\"속성\")\n",
    "    \n",
    "    \n",
    "    "
   ]
  }
 ],
 "metadata": {
  "kernelspec": {
   "display_name": "Python 3",
   "language": "python",
   "name": "python3"
  },
  "language_info": {
   "codemirror_mode": {
    "name": "ipython",
    "version": 3
   },
   "file_extension": ".py",
   "mimetype": "text/x-python",
   "name": "python",
   "nbconvert_exporter": "python",
   "pygments_lexer": "ipython3",
   "version": "3.8.5"
  }
 },
 "nbformat": 4,
 "nbformat_minor": 4
}
